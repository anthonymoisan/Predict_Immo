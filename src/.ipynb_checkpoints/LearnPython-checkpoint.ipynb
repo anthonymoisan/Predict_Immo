{
 "cells": [
  {
   "cell_type": "markdown",
   "id": "9499b3d8",
   "metadata": {},
   "source": [
    "# Mes débuts en Python"
   ]
  },
  {
   "cell_type": "markdown",
   "id": "9a506fcd",
   "metadata": {},
   "source": [
    "## Interpreteur python actif"
   ]
  },
  {
   "cell_type": "code",
   "execution_count": 3,
   "id": "b72592b5",
   "metadata": {},
   "outputs": [
    {
     "name": "stdout",
     "output_type": "stream",
     "text": [
      "Hello, bienvenu dans le monde de Python\n"
     ]
    }
   ],
   "source": [
    "print(\"Hello, bienvenus dans le monde de Python\")"
   ]
  },
  {
   "cell_type": "markdown",
   "id": "eddaa9e9",
   "metadata": {},
   "source": [
    "## Manipulation de nombres"
   ]
  },
  {
   "cell_type": "code",
   "execution_count": null,
   "id": "dd98d25f",
   "metadata": {},
   "outputs": [],
   "source": [
    "a = 2+2\n",
    "print(a)"
   ]
  },
  {
   "cell_type": "code",
   "execution_count": 10,
   "id": "6e386787",
   "metadata": {},
   "outputs": [
    {
     "name": "stdout",
     "output_type": "stream",
     "text": [
      "0.8\n"
     ]
    }
   ],
   "source": [
    "b = a/5\n",
    "print(b)"
   ]
  },
  {
   "cell_type": "code",
   "execution_count": 13,
   "id": "bbf45e54",
   "metadata": {},
   "outputs": [
    {
     "data": {
      "text/plain": [
       "17"
      ]
     },
     "execution_count": 13,
     "metadata": {},
     "output_type": "execute_result"
    }
   ],
   "source": [
    "5 * 3 + 2"
   ]
  },
  {
   "cell_type": "code",
   "execution_count": 11,
   "id": "1137f2cf",
   "metadata": {},
   "outputs": [
    {
     "data": {
      "text/plain": [
       "5"
      ]
     },
     "execution_count": 11,
     "metadata": {},
     "output_type": "execute_result"
    }
   ],
   "source": [
    "17 // 3"
   ]
  },
  {
   "cell_type": "code",
   "execution_count": 12,
   "id": "6aca0e15",
   "metadata": {},
   "outputs": [
    {
     "data": {
      "text/plain": [
       "2"
      ]
     },
     "execution_count": 12,
     "metadata": {},
     "output_type": "execute_result"
    }
   ],
   "source": [
    "17 % 3"
   ]
  },
  {
   "cell_type": "code",
   "execution_count": 15,
   "id": "daf8e58f",
   "metadata": {},
   "outputs": [
    {
     "data": {
      "text/plain": [
       "25"
      ]
     },
     "execution_count": 15,
     "metadata": {},
     "output_type": "execute_result"
    }
   ],
   "source": [
    "5**2"
   ]
  },
  {
   "cell_type": "markdown",
   "id": "5fc0ec75",
   "metadata": {},
   "source": [
    "## Manipulation de chaines de caractères"
   ]
  },
  {
   "cell_type": "markdown",
   "id": "ab7132b6",
   "metadata": {},
   "source": [
    "Utilisation des guillemets simples ou doubles '' ou \"\""
   ]
  },
  {
   "cell_type": "code",
   "execution_count": 16,
   "id": "71d2312f",
   "metadata": {},
   "outputs": [
    {
     "data": {
      "text/plain": [
       "'Tout va bien'"
      ]
     },
     "execution_count": 16,
     "metadata": {},
     "output_type": "execute_result"
    }
   ],
   "source": [
    "\"Tout va bien\""
   ]
  },
  {
   "cell_type": "code",
   "execution_count": 17,
   "id": "d220880d",
   "metadata": {},
   "outputs": [
    {
     "data": {
      "text/plain": [
       "'Tout va bien'"
      ]
     },
     "execution_count": 17,
     "metadata": {},
     "output_type": "execute_result"
    }
   ],
   "source": [
    "'Tout va bien'"
   ]
  },
  {
   "cell_type": "code",
   "execution_count": 20,
   "id": "36cbc02d",
   "metadata": {},
   "outputs": [
    {
     "data": {
      "text/plain": [
       "34"
      ]
     },
     "execution_count": 20,
     "metadata": {},
     "output_type": "execute_result"
    }
   ],
   "source": [
    "s = 'supercalifragilisticexpialidocious'\n",
    "len(s)"
   ]
  },
  {
   "cell_type": "markdown",
   "id": "5b1c3ecc",
   "metadata": {},
   "source": [
    "https://docs.python.org/fr/3/library/stdtypes.html#string-methods"
   ]
  },
  {
   "cell_type": "markdown",
   "id": "b9412c34",
   "metadata": {},
   "source": [
    "## Listes"
   ]
  },
  {
   "cell_type": "markdown",
   "id": "f0cd743b",
   "metadata": {},
   "source": [
    "### Création d'une liste"
   ]
  },
  {
   "cell_type": "markdown",
   "id": "5bea55fe",
   "metadata": {},
   "source": [
    "Utilisation de [ ]"
   ]
  },
  {
   "cell_type": "code",
   "execution_count": 21,
   "id": "b6935887",
   "metadata": {},
   "outputs": [
    {
     "data": {
      "text/plain": [
       "[1, 4, 9, 16, 25]"
      ]
     },
     "execution_count": 21,
     "metadata": {},
     "output_type": "execute_result"
    }
   ],
   "source": [
    "squares = [1, 4, 9, 16, 25]\n",
    "squares"
   ]
  },
  {
   "cell_type": "markdown",
   "id": "6e7daf9d",
   "metadata": {},
   "source": [
    "### Accès par index\n",
    "Les chaines de caractères sont immuables au contraire des listes"
   ]
  },
  {
   "cell_type": "code",
   "execution_count": null,
   "id": "1cb9e3cb",
   "metadata": {},
   "outputs": [],
   "source": [
    "squares[1] = 3\n",
    "squares"
   ]
  },
  {
   "cell_type": "code",
   "execution_count": 27,
   "id": "6f7e2fee",
   "metadata": {},
   "outputs": [
    {
     "data": {
      "text/plain": [
       "1"
      ]
     },
     "execution_count": 27,
     "metadata": {},
     "output_type": "execute_result"
    }
   ],
   "source": [
    "squares[0]"
   ]
  },
  {
   "cell_type": "code",
   "execution_count": 28,
   "id": "d413245c",
   "metadata": {},
   "outputs": [
    {
     "data": {
      "text/plain": [
       "25"
      ]
     },
     "execution_count": 28,
     "metadata": {},
     "output_type": "execute_result"
    }
   ],
   "source": [
    "squares[-1]"
   ]
  },
  {
   "cell_type": "markdown",
   "id": "58f19bdc",
   "metadata": {},
   "source": [
    "### Parcourir une liste"
   ]
  },
  {
   "cell_type": "code",
   "execution_count": 24,
   "id": "cb66f0d2",
   "metadata": {},
   "outputs": [
    {
     "name": "stdout",
     "output_type": "stream",
     "text": [
      "1\n",
      "3\n",
      "9\n",
      "16\n",
      "25\n"
     ]
    }
   ],
   "source": [
    "for elem in squares:\n",
    "    print(elem)"
   ]
  },
  {
   "cell_type": "markdown",
   "id": "f11e1c5c",
   "metadata": {},
   "source": [
    "https://docs.python.org/3/tutorial/datastructures.html"
   ]
  },
  {
   "cell_type": "markdown",
   "id": "b298a168",
   "metadata": {},
   "source": [
    "## Les dictionnaires"
   ]
  },
  {
   "cell_type": "markdown",
   "id": "a0bdd21d",
   "metadata": {},
   "source": [
    "### Création d'un dictionnaire\n",
    "Utilisation de {}"
   ]
  },
  {
   "cell_type": "code",
   "execution_count": 25,
   "id": "57a11829",
   "metadata": {},
   "outputs": [],
   "source": [
    "MLB_team = {\n",
    "    'Colorado' : 'Rockies',\n",
    "    'Boston'   : 'Red Sox',\n",
    "    'Minnesota': 'Twins',\n",
    "    'Milwaukee': 'Brewers',\n",
    "    'Seattle'  : 'Mariners'\n",
    "}"
   ]
  },
  {
   "cell_type": "markdown",
   "id": "92d0f88f",
   "metadata": {},
   "source": [
    "### Accès par clé"
   ]
  },
  {
   "cell_type": "code",
   "execution_count": 34,
   "id": "63096fee",
   "metadata": {},
   "outputs": [
    {
     "data": {
      "text/plain": [
       "'Red Sox'"
      ]
     },
     "execution_count": 34,
     "metadata": {},
     "output_type": "execute_result"
    }
   ],
   "source": [
    "MLB_team['Boston']"
   ]
  },
  {
   "cell_type": "markdown",
   "id": "c7233153",
   "metadata": {},
   "source": [
    "### Parcourir un dictionnaire"
   ]
  },
  {
   "cell_type": "code",
   "execution_count": 33,
   "id": "1a6e0b0e",
   "metadata": {},
   "outputs": [
    {
     "name": "stdout",
     "output_type": "stream",
     "text": [
      "Colorado:Rockies\n",
      "Boston:Red Sox\n",
      "Minnesota:Twins\n",
      "Milwaukee:Brewers\n",
      "Seattle:Mariners\n"
     ]
    }
   ],
   "source": [
    "for cle, val in MLB_team.items():\n",
    "    print(cle+\":\"+val)"
   ]
  },
  {
   "cell_type": "markdown",
   "id": "c299c267",
   "metadata": {},
   "source": [
    "# Boucles"
   ]
  },
  {
   "cell_type": "markdown",
   "id": "90f7f291",
   "metadata": {},
   "source": [
    "## Boucle bornée"
   ]
  },
  {
   "cell_type": "code",
   "execution_count": 35,
   "id": "f4f8baa3",
   "metadata": {},
   "outputs": [
    {
     "name": "stdout",
     "output_type": "stream",
     "text": [
      "i a pour valeur 0\n",
      "i a pour valeur 1\n",
      "i a pour valeur 2\n",
      "i a pour valeur 3\n"
     ]
    }
   ],
   "source": [
    "for i in [0, 1, 2, 3]:\n",
    "    print(\"i a pour valeur\", i)"
   ]
  },
  {
   "cell_type": "markdown",
   "id": "3f67f103",
   "metadata": {},
   "source": [
    "## Boucle non bornée"
   ]
  },
  {
   "cell_type": "code",
   "execution_count": 36,
   "id": "3bca33bd",
   "metadata": {},
   "outputs": [
    {
     "name": "stdout",
     "output_type": "stream",
     "text": [
      "x a pour valeur 1\n",
      "x a pour valeur 2\n",
      "x a pour valeur 4\n",
      "x a pour valeur 8\n",
      "Fin\n"
     ]
    }
   ],
   "source": [
    "x = 1\n",
    "while x < 10:\n",
    "    print(\"x a pour valeur\", x)\n",
    "    x = x * 2\n",
    "print(\"Fin\")"
   ]
  },
  {
   "cell_type": "markdown",
   "id": "ddbf0a88",
   "metadata": {},
   "source": [
    "# Fonctions\n",
    "## Définition"
   ]
  },
  {
   "cell_type": "code",
   "execution_count": 37,
   "id": "3f2d9f23",
   "metadata": {},
   "outputs": [],
   "source": [
    "def carre(valeur):\n",
    "    resultat = valeur**2\n",
    "    return resultat\n",
    "\n",
    "def cube(valeur):\n",
    "    resultat = valeur**3\n",
    "    return resultat"
   ]
  },
  {
   "cell_type": "code",
   "execution_count": 38,
   "id": "16f2de93",
   "metadata": {},
   "outputs": [
    {
     "data": {
      "text/plain": [
       "4"
      ]
     },
     "execution_count": 38,
     "metadata": {},
     "output_type": "execute_result"
    }
   ],
   "source": [
    "carre(2)"
   ]
  },
  {
   "cell_type": "code",
   "execution_count": 39,
   "id": "6618886d",
   "metadata": {},
   "outputs": [
    {
     "data": {
      "text/plain": [
       "8"
      ]
     },
     "execution_count": 39,
     "metadata": {},
     "output_type": "execute_result"
    }
   ],
   "source": [
    "cube(2)"
   ]
  },
  {
   "cell_type": "markdown",
   "id": "143cf5e2",
   "metadata": {},
   "source": [
    "## Module"
   ]
  },
  {
   "cell_type": "code",
   "execution_count": 40,
   "id": "be1a90f4",
   "metadata": {},
   "outputs": [],
   "source": [
    "import pandas as pd\n"
   ]
  },
  {
   "cell_type": "markdown",
   "id": "ec067eca",
   "metadata": {},
   "source": [
    "import du module pandas avec toutes les fonctions et utilisation d'un alias pd"
   ]
  },
  {
   "cell_type": "markdown",
   "id": "daeb9c31",
   "metadata": {},
   "source": [
    "# Chargement des données de prix"
   ]
  },
  {
   "cell_type": "markdown",
   "id": "741086bc",
   "metadata": {},
   "source": [
    "## Code brut"
   ]
  },
  {
   "cell_type": "markdown",
   "id": "858ca94b",
   "metadata": {},
   "source": [
    "### Lecture des fichiers Excel"
   ]
  },
  {
   "cell_type": "code",
   "execution_count": 44,
   "id": "c0df81e2",
   "metadata": {},
   "outputs": [
    {
     "name": "stdout",
     "output_type": "stream",
     "text": [
      "taille du jeu de donnees : (1429093, 40)\n"
     ]
    }
   ],
   "source": [
    "# lecture du fichier excel\n",
    "df_2022 = pd.read_csv('C:/Users/antho/Documents/GitHub/Git/Predict_Immo/input/AvecCoordonneesGeo/full.csv', delimiter = ',', low_memory = False)\n",
    "print(\"taille du jeu de donnees :\", df_2022.shape)"
   ]
  },
  {
   "cell_type": "code",
   "execution_count": 48,
   "id": "f54be03a",
   "metadata": {},
   "outputs": [
    {
     "data": {
      "text/html": [
       "<div>\n",
       "<style scoped>\n",
       "    .dataframe tbody tr th:only-of-type {\n",
       "        vertical-align: middle;\n",
       "    }\n",
       "\n",
       "    .dataframe tbody tr th {\n",
       "        vertical-align: top;\n",
       "    }\n",
       "\n",
       "    .dataframe thead th {\n",
       "        text-align: right;\n",
       "    }\n",
       "</style>\n",
       "<table border=\"1\" class=\"dataframe\">\n",
       "  <thead>\n",
       "    <tr style=\"text-align: right;\">\n",
       "      <th></th>\n",
       "      <th>id_mutation</th>\n",
       "      <th>date_mutation</th>\n",
       "      <th>numero_disposition</th>\n",
       "      <th>nature_mutation</th>\n",
       "      <th>valeur_fonciere</th>\n",
       "      <th>adresse_numero</th>\n",
       "      <th>adresse_suffixe</th>\n",
       "      <th>adresse_nom_voie</th>\n",
       "      <th>adresse_code_voie</th>\n",
       "      <th>code_postal</th>\n",
       "      <th>...</th>\n",
       "      <th>type_local</th>\n",
       "      <th>surface_reelle_bati</th>\n",
       "      <th>nombre_pieces_principales</th>\n",
       "      <th>code_nature_culture</th>\n",
       "      <th>nature_culture</th>\n",
       "      <th>code_nature_culture_speciale</th>\n",
       "      <th>nature_culture_speciale</th>\n",
       "      <th>surface_terrain</th>\n",
       "      <th>longitude</th>\n",
       "      <th>latitude</th>\n",
       "    </tr>\n",
       "  </thead>\n",
       "  <tbody>\n",
       "    <tr>\n",
       "      <th>0</th>\n",
       "      <td>2022-1</td>\n",
       "      <td>2022-01-03</td>\n",
       "      <td>1</td>\n",
       "      <td>Vente</td>\n",
       "      <td>55000.0</td>\n",
       "      <td>13.0</td>\n",
       "      <td>NaN</td>\n",
       "      <td>RUE DE LA LIBERTE</td>\n",
       "      <td>2280</td>\n",
       "      <td>1000.0</td>\n",
       "      <td>...</td>\n",
       "      <td>Appartement</td>\n",
       "      <td>24.0</td>\n",
       "      <td>1.0</td>\n",
       "      <td>NaN</td>\n",
       "      <td>NaN</td>\n",
       "      <td>NaN</td>\n",
       "      <td>NaN</td>\n",
       "      <td>NaN</td>\n",
       "      <td>5.218706</td>\n",
       "      <td>46.198054</td>\n",
       "    </tr>\n",
       "    <tr>\n",
       "      <th>1</th>\n",
       "      <td>2022-2</td>\n",
       "      <td>2022-01-03</td>\n",
       "      <td>1</td>\n",
       "      <td>Vente</td>\n",
       "      <td>143000.0</td>\n",
       "      <td>NaN</td>\n",
       "      <td>NaN</td>\n",
       "      <td>CHAMP COCHET</td>\n",
       "      <td>B010</td>\n",
       "      <td>1480.0</td>\n",
       "      <td>...</td>\n",
       "      <td>NaN</td>\n",
       "      <td>NaN</td>\n",
       "      <td>NaN</td>\n",
       "      <td>S</td>\n",
       "      <td>sols</td>\n",
       "      <td>NaN</td>\n",
       "      <td>NaN</td>\n",
       "      <td>84.0</td>\n",
       "      <td>4.847867</td>\n",
       "      <td>46.000617</td>\n",
       "    </tr>\n",
       "    <tr>\n",
       "      <th>2</th>\n",
       "      <td>2022-2</td>\n",
       "      <td>2022-01-03</td>\n",
       "      <td>1</td>\n",
       "      <td>Vente</td>\n",
       "      <td>143000.0</td>\n",
       "      <td>NaN</td>\n",
       "      <td>NaN</td>\n",
       "      <td>CHAMP COCHET</td>\n",
       "      <td>B010</td>\n",
       "      <td>1480.0</td>\n",
       "      <td>...</td>\n",
       "      <td>NaN</td>\n",
       "      <td>NaN</td>\n",
       "      <td>NaN</td>\n",
       "      <td>S</td>\n",
       "      <td>sols</td>\n",
       "      <td>NaN</td>\n",
       "      <td>NaN</td>\n",
       "      <td>88.0</td>\n",
       "      <td>4.847920</td>\n",
       "      <td>46.000576</td>\n",
       "    </tr>\n",
       "    <tr>\n",
       "      <th>3</th>\n",
       "      <td>2022-2</td>\n",
       "      <td>2022-01-03</td>\n",
       "      <td>1</td>\n",
       "      <td>Vente</td>\n",
       "      <td>143000.0</td>\n",
       "      <td>98.0</td>\n",
       "      <td>NaN</td>\n",
       "      <td>RTE DE LA DOMBES</td>\n",
       "      <td>0055</td>\n",
       "      <td>1480.0</td>\n",
       "      <td>...</td>\n",
       "      <td>Appartement</td>\n",
       "      <td>140.0</td>\n",
       "      <td>3.0</td>\n",
       "      <td>NaN</td>\n",
       "      <td>NaN</td>\n",
       "      <td>NaN</td>\n",
       "      <td>NaN</td>\n",
       "      <td>NaN</td>\n",
       "      <td>4.848345</td>\n",
       "      <td>46.000585</td>\n",
       "    </tr>\n",
       "    <tr>\n",
       "      <th>4</th>\n",
       "      <td>2022-3</td>\n",
       "      <td>2022-01-04</td>\n",
       "      <td>1</td>\n",
       "      <td>Vente</td>\n",
       "      <td>300.0</td>\n",
       "      <td>NaN</td>\n",
       "      <td>NaN</td>\n",
       "      <td>AUX PIERRES</td>\n",
       "      <td>B031</td>\n",
       "      <td>1480.0</td>\n",
       "      <td>...</td>\n",
       "      <td>NaN</td>\n",
       "      <td>NaN</td>\n",
       "      <td>NaN</td>\n",
       "      <td>T</td>\n",
       "      <td>terres</td>\n",
       "      <td>NaN</td>\n",
       "      <td>NaN</td>\n",
       "      <td>510.0</td>\n",
       "      <td>4.747627</td>\n",
       "      <td>46.045434</td>\n",
       "    </tr>\n",
       "  </tbody>\n",
       "</table>\n",
       "<p>5 rows × 40 columns</p>\n",
       "</div>"
      ],
      "text/plain": [
       "  id_mutation date_mutation  numero_disposition nature_mutation  \\\n",
       "0      2022-1    2022-01-03                   1           Vente   \n",
       "1      2022-2    2022-01-03                   1           Vente   \n",
       "2      2022-2    2022-01-03                   1           Vente   \n",
       "3      2022-2    2022-01-03                   1           Vente   \n",
       "4      2022-3    2022-01-04                   1           Vente   \n",
       "\n",
       "   valeur_fonciere  adresse_numero adresse_suffixe   adresse_nom_voie  \\\n",
       "0          55000.0            13.0             NaN  RUE DE LA LIBERTE   \n",
       "1         143000.0             NaN             NaN       CHAMP COCHET   \n",
       "2         143000.0             NaN             NaN       CHAMP COCHET   \n",
       "3         143000.0            98.0             NaN   RTE DE LA DOMBES   \n",
       "4            300.0             NaN             NaN        AUX PIERRES   \n",
       "\n",
       "  adresse_code_voie  code_postal  ...   type_local surface_reelle_bati  \\\n",
       "0              2280       1000.0  ...  Appartement                24.0   \n",
       "1              B010       1480.0  ...          NaN                 NaN   \n",
       "2              B010       1480.0  ...          NaN                 NaN   \n",
       "3              0055       1480.0  ...  Appartement               140.0   \n",
       "4              B031       1480.0  ...          NaN                 NaN   \n",
       "\n",
       "  nombre_pieces_principales  code_nature_culture nature_culture  \\\n",
       "0                       1.0                  NaN            NaN   \n",
       "1                       NaN                    S           sols   \n",
       "2                       NaN                    S           sols   \n",
       "3                       3.0                  NaN            NaN   \n",
       "4                       NaN                    T         terres   \n",
       "\n",
       "  code_nature_culture_speciale nature_culture_speciale surface_terrain  \\\n",
       "0                          NaN                     NaN             NaN   \n",
       "1                          NaN                     NaN            84.0   \n",
       "2                          NaN                     NaN            88.0   \n",
       "3                          NaN                     NaN             NaN   \n",
       "4                          NaN                     NaN           510.0   \n",
       "\n",
       "  longitude   latitude  \n",
       "0  5.218706  46.198054  \n",
       "1  4.847867  46.000617  \n",
       "2  4.847920  46.000576  \n",
       "3  4.848345  46.000585  \n",
       "4  4.747627  46.045434  \n",
       "\n",
       "[5 rows x 40 columns]"
      ]
     },
     "execution_count": 48,
     "metadata": {},
     "output_type": "execute_result"
    }
   ],
   "source": [
    "df_2022.head(5)"
   ]
  },
  {
   "cell_type": "code",
   "execution_count": 45,
   "id": "d8a2dccf",
   "metadata": {},
   "outputs": [
    {
     "name": "stdout",
     "output_type": "stream",
     "text": [
      "taille du jeu de donnees : (1429093, 40)\n"
     ]
    }
   ],
   "source": [
    "# lecture du fichier excel\n",
    "df_2021 = pd.read_csv('C:/Users/antho/Documents/GitHub/Git/Predict_Immo/input/AvecCoordonneesGeo/full2021.csv', delimiter = ',', low_memory = False)\n",
    "print(\"taille du jeu de donnees :\", df_2021.shape)"
   ]
  },
  {
   "cell_type": "markdown",
   "id": "75632a1b",
   "metadata": {},
   "source": [
    "### Concaténation des données"
   ]
  },
  {
   "cell_type": "code",
   "execution_count": 47,
   "id": "23f349c5",
   "metadata": {},
   "outputs": [],
   "source": [
    "df = pd.concat([df_2022,df_2021])"
   ]
  },
  {
   "cell_type": "code",
   "execution_count": 50,
   "id": "73338e37",
   "metadata": {},
   "outputs": [
    {
     "name": "stdout",
     "output_type": "stream",
     "text": [
      "taille du jeu de donnees : (5804316, 41)\n"
     ]
    }
   ],
   "source": [
    "print(\"taille du jeu de donnees :\", df.shape)"
   ]
  },
  {
   "cell_type": "markdown",
   "id": "f00f3c73",
   "metadata": {},
   "source": [
    "### Réduction aux données du 75"
   ]
  },
  {
   "cell_type": "code",
   "execution_count": 49,
   "id": "005363f5",
   "metadata": {},
   "outputs": [
    {
     "name": "stdout",
     "output_type": "stream",
     "text": [
      "Departement : 75\n",
      "Taille du jeu de donnees (130696, 40)\n"
     ]
    }
   ],
   "source": [
    "numDep = '75'\n",
    "df['code_departement'].astype(str)\n",
    "# Création d'une colonne booléenne permettant de savoir si le code département correspond au 75\n",
    "df['Validation'] = (df['code_departement'] == numDep )\n",
    "# Réduction de l'ensemble de départ lorsque l'égalité est vraie\n",
    "dfDep = df[df['Validation']==True]\n",
    "# Suppression de la variable de travail précédemment créé\n",
    "dfDep = dfDep.drop('Validation', axis=1)\n",
    "print(\"Departement : {0}\".format(numDep))\n",
    "print(\"Taille du jeu de donnees\", dfDep.shape)"
   ]
  },
  {
   "cell_type": "markdown",
   "id": "791b3480",
   "metadata": {},
   "source": [
    "## Un code plus modulaire"
   ]
  },
  {
   "cell_type": "code",
   "execution_count": 53,
   "id": "ac3c306b",
   "metadata": {},
   "outputs": [],
   "source": [
    "# Fonction pour lire les donnnées en fonction du fichier\n",
    "def ReadFile(nomFile, delimiter = '|'):\n",
    "    # lecture du fichier excel\n",
    "    df = pd.read_csv(nomFile, delimiter = delimiter, low_memory = False)\n",
    "    print(\"taille du jeu de donnees :\", df.shape)\n",
    "    return df"
   ]
  },
  {
   "cell_type": "code",
   "execution_count": 54,
   "id": "778f9e93",
   "metadata": {},
   "outputs": [],
   "source": [
    "# Fonction pour extraire les données à partir d'un numéro de département\n",
    "def ExtractDepartement(df, numDep):\n",
    "    df['code_departement'].astype(str)\n",
    "    df['Validation'] = (df['code_departement'] == numDep )\n",
    "    dfDep = df[df['Validation']==True]\n",
    "    dfDep = dfDep.drop('Validation', axis=1)\n",
    "    print(\"Departement : {0}\".format(numDep))\n",
    "    print(\"Taille du jeu de donnees\", dfDep.shape)\n",
    "    return dfDep"
   ]
  },
  {
   "cell_type": "code",
   "execution_count": null,
   "id": "65318013",
   "metadata": {},
   "outputs": [],
   "source": [
    "df1 = ReadFile(\"../input/AvecCoordonneesGeo/full.csv\", ',')"
   ]
  }
 ],
 "metadata": {
  "kernelspec": {
   "display_name": "Python 3 (ipykernel)",
   "language": "python",
   "name": "python3"
  },
  "language_info": {
   "codemirror_mode": {
    "name": "ipython",
    "version": 3
   },
   "file_extension": ".py",
   "mimetype": "text/x-python",
   "name": "python",
   "nbconvert_exporter": "python",
   "pygments_lexer": "ipython3",
   "version": "3.9.13"
  }
 },
 "nbformat": 4,
 "nbformat_minor": 5
}
