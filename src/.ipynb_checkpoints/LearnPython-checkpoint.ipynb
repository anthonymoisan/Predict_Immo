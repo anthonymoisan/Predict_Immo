{
 "cells": [
  {
   "cell_type": "markdown",
   "id": "36528fcb",
   "metadata": {},
   "source": [
    "# Mes débuts en Python"
   ]
  },
  {
   "cell_type": "markdown",
   "id": "d28801d3",
   "metadata": {},
   "source": [
    "## Interpreteur python actif"
   ]
  },
  {
   "cell_type": "code",
   "execution_count": 1,
   "id": "535352c3",
   "metadata": {},
   "outputs": [
    {
     "name": "stdout",
     "output_type": "stream",
     "text": [
      "Hello, bienvenus dans le monde de Python\n"
     ]
    }
   ],
   "source": [
    "print(\"Hello, bienvenus dans le monde de Python\")"
   ]
  },
  {
   "cell_type": "markdown",
   "id": "5ceb05ad",
   "metadata": {},
   "source": [
    "## Manipulation de nombres"
   ]
  },
  {
   "cell_type": "code",
   "execution_count": 2,
   "id": "731ced52",
   "metadata": {},
   "outputs": [
    {
     "name": "stdout",
     "output_type": "stream",
     "text": [
      "4\n",
      "<class 'int'>\n"
     ]
    }
   ],
   "source": [
    "a = 2+2\n",
    "print(a)\n",
    "print(type(a))"
   ]
  },
  {
   "cell_type": "code",
   "execution_count": 3,
   "id": "dab430b2",
   "metadata": {},
   "outputs": [
    {
     "name": "stdout",
     "output_type": "stream",
     "text": [
      "0.8\n",
      "<class 'float'>\n"
     ]
    }
   ],
   "source": [
    "a = a/5\n",
    "print(a)\n",
    "print(type(a))"
   ]
  },
  {
   "cell_type": "code",
   "execution_count": 4,
   "id": "dd09ed7b",
   "metadata": {},
   "outputs": [
    {
     "data": {
      "text/plain": [
       "17"
      ]
     },
     "execution_count": 4,
     "metadata": {},
     "output_type": "execute_result"
    }
   ],
   "source": [
    "5 * 3 + 2"
   ]
  },
  {
   "cell_type": "code",
   "execution_count": 5,
   "id": "979df29a",
   "metadata": {},
   "outputs": [
    {
     "data": {
      "text/plain": [
       "5"
      ]
     },
     "execution_count": 5,
     "metadata": {},
     "output_type": "execute_result"
    }
   ],
   "source": [
    "17 // 3"
   ]
  },
  {
   "cell_type": "code",
   "execution_count": 6,
   "id": "2b250a29",
   "metadata": {},
   "outputs": [
    {
     "data": {
      "text/plain": [
       "2"
      ]
     },
     "execution_count": 6,
     "metadata": {},
     "output_type": "execute_result"
    }
   ],
   "source": [
    "17 % 3"
   ]
  },
  {
   "cell_type": "code",
   "execution_count": 7,
   "id": "7707933c",
   "metadata": {},
   "outputs": [
    {
     "data": {
      "text/plain": [
       "25"
      ]
     },
     "execution_count": 7,
     "metadata": {},
     "output_type": "execute_result"
    }
   ],
   "source": [
    "5**2"
   ]
  },
  {
   "cell_type": "markdown",
   "id": "038bc93c",
   "metadata": {},
   "source": [
    "## Manipulation de chaines de caractères"
   ]
  },
  {
   "cell_type": "markdown",
   "id": "b2805b44",
   "metadata": {},
   "source": [
    "Utilisation des guillemets simples ou doubles '' ou \"\""
   ]
  },
  {
   "cell_type": "code",
   "execution_count": 8,
   "id": "c818dd81",
   "metadata": {},
   "outputs": [
    {
     "data": {
      "text/plain": [
       "'Tout va bien'"
      ]
     },
     "execution_count": 8,
     "metadata": {},
     "output_type": "execute_result"
    }
   ],
   "source": [
    "\"Tout va bien\""
   ]
  },
  {
   "cell_type": "code",
   "execution_count": 9,
   "id": "0ad5d34c",
   "metadata": {},
   "outputs": [
    {
     "data": {
      "text/plain": [
       "'Tout va bien'"
      ]
     },
     "execution_count": 9,
     "metadata": {},
     "output_type": "execute_result"
    }
   ],
   "source": [
    "'Tout va bien'"
   ]
  },
  {
   "cell_type": "code",
   "execution_count": 10,
   "id": "d361877e",
   "metadata": {},
   "outputs": [
    {
     "data": {
      "text/plain": [
       "34"
      ]
     },
     "execution_count": 10,
     "metadata": {},
     "output_type": "execute_result"
    }
   ],
   "source": [
    "s = 'supercalifragilisticexpialidocious'\n",
    "len(s)"
   ]
  },
  {
   "cell_type": "markdown",
   "id": "bf964079",
   "metadata": {},
   "source": [
    "https://docs.python.org/fr/3/library/stdtypes.html#string-methods"
   ]
  },
  {
   "cell_type": "markdown",
   "id": "65ddefaf",
   "metadata": {},
   "source": [
    "## Listes"
   ]
  },
  {
   "cell_type": "markdown",
   "id": "af2d634c",
   "metadata": {},
   "source": [
    "### Création d'une liste"
   ]
  },
  {
   "cell_type": "markdown",
   "id": "bbe5994e",
   "metadata": {},
   "source": [
    "Utilisation de [ ]"
   ]
  },
  {
   "cell_type": "code",
   "execution_count": 11,
   "id": "6e0023bb",
   "metadata": {},
   "outputs": [
    {
     "data": {
      "text/plain": [
       "[1, 4, 9, 16, 25]"
      ]
     },
     "execution_count": 11,
     "metadata": {},
     "output_type": "execute_result"
    }
   ],
   "source": [
    "squares = [1, 4, 9, 16, 25]\n",
    "squares"
   ]
  },
  {
   "cell_type": "markdown",
   "id": "d0283022",
   "metadata": {},
   "source": [
    "### Accès par index\n",
    "Les chaines de caractères sont immuables au contraire des listes"
   ]
  },
  {
   "cell_type": "code",
   "execution_count": 12,
   "id": "3782a6a5",
   "metadata": {},
   "outputs": [
    {
     "data": {
      "text/plain": [
       "[1, 3, 9, 16, 25]"
      ]
     },
     "execution_count": 12,
     "metadata": {},
     "output_type": "execute_result"
    }
   ],
   "source": [
    "squares[1] = 3\n",
    "squares"
   ]
  },
  {
   "cell_type": "code",
   "execution_count": 13,
   "id": "d0aae35a",
   "metadata": {},
   "outputs": [
    {
     "data": {
      "text/plain": [
       "3"
      ]
     },
     "execution_count": 13,
     "metadata": {},
     "output_type": "execute_result"
    }
   ],
   "source": [
    "squares[1]"
   ]
  },
  {
   "cell_type": "code",
   "execution_count": 14,
   "id": "5da86ac0",
   "metadata": {},
   "outputs": [
    {
     "data": {
      "text/plain": [
       "25"
      ]
     },
     "execution_count": 14,
     "metadata": {},
     "output_type": "execute_result"
    }
   ],
   "source": [
    "squares[-1]"
   ]
  },
  {
   "cell_type": "markdown",
   "id": "8073a8d0",
   "metadata": {},
   "source": [
    "### Parcourir une liste"
   ]
  },
  {
   "cell_type": "code",
   "execution_count": 15,
   "id": "e72f5075",
   "metadata": {},
   "outputs": [
    {
     "name": "stdout",
     "output_type": "stream",
     "text": [
      "1\n",
      "3\n",
      "9\n",
      "16\n",
      "25\n"
     ]
    }
   ],
   "source": [
    "for elem in squares:\n",
    "    print(elem)"
   ]
  },
  {
   "cell_type": "markdown",
   "id": "612bf2ae",
   "metadata": {},
   "source": [
    "https://docs.python.org/3/tutorial/datastructures.html"
   ]
  },
  {
   "cell_type": "markdown",
   "id": "4d7034c6",
   "metadata": {},
   "source": [
    "## Les dictionnaires"
   ]
  },
  {
   "cell_type": "markdown",
   "id": "3f3a5939",
   "metadata": {},
   "source": [
    "### Création d'un dictionnaire\n",
    "Utilisation de {}"
   ]
  },
  {
   "cell_type": "code",
   "execution_count": 16,
   "id": "8438b03a",
   "metadata": {},
   "outputs": [],
   "source": [
    "MLB_team = {\n",
    "    'Colorado' : 'Rockies',\n",
    "    'Boston'   : 'Red Sox',\n",
    "    'Minnesota': 'Twins',\n",
    "    'Milwaukee': 'Brewers',\n",
    "    'Seattle'  : 'Mariners'\n",
    "}"
   ]
  },
  {
   "cell_type": "markdown",
   "id": "a5073d92",
   "metadata": {},
   "source": [
    "### Accès par clé"
   ]
  },
  {
   "cell_type": "code",
   "execution_count": 17,
   "id": "67b30a79",
   "metadata": {},
   "outputs": [
    {
     "data": {
      "text/plain": [
       "'Red Sox'"
      ]
     },
     "execution_count": 17,
     "metadata": {},
     "output_type": "execute_result"
    }
   ],
   "source": [
    "MLB_team['Boston']"
   ]
  },
  {
   "cell_type": "markdown",
   "id": "11e2f6f2",
   "metadata": {},
   "source": [
    "### Parcourir un dictionnaire"
   ]
  },
  {
   "cell_type": "code",
   "execution_count": 18,
   "id": "2dfef0e1",
   "metadata": {},
   "outputs": [
    {
     "name": "stdout",
     "output_type": "stream",
     "text": [
      "Colorado:Rockies\n",
      "Boston:Red Sox\n",
      "Minnesota:Twins\n",
      "Milwaukee:Brewers\n",
      "Seattle:Mariners\n"
     ]
    }
   ],
   "source": [
    "for cle, val in MLB_team.items():\n",
    "    print(cle+\":\"+val)"
   ]
  },
  {
   "cell_type": "markdown",
   "id": "e2f76108",
   "metadata": {},
   "source": [
    "# Boucles"
   ]
  },
  {
   "cell_type": "markdown",
   "id": "dc4d5137",
   "metadata": {},
   "source": [
    "## Boucle bornée"
   ]
  },
  {
   "cell_type": "code",
   "execution_count": 19,
   "id": "89e96e75",
   "metadata": {},
   "outputs": [
    {
     "name": "stdout",
     "output_type": "stream",
     "text": [
      "i a pour valeur 0\n",
      "i a pour valeur 1\n",
      "i a pour valeur 2\n",
      "i a pour valeur 3\n"
     ]
    }
   ],
   "source": [
    "for i in [0, 1, 2, 3]:\n",
    "    print(\"i a pour valeur\", i)"
   ]
  },
  {
   "cell_type": "markdown",
   "id": "1f404f55",
   "metadata": {},
   "source": [
    "## Boucle non bornée"
   ]
  },
  {
   "cell_type": "code",
   "execution_count": 20,
   "id": "c5be829c",
   "metadata": {},
   "outputs": [
    {
     "name": "stdout",
     "output_type": "stream",
     "text": [
      "x a pour valeur 1\n",
      "x a pour valeur 2\n",
      "x a pour valeur 4\n",
      "x a pour valeur 8\n",
      "Fin\n"
     ]
    }
   ],
   "source": [
    "x = 1\n",
    "while x < 10:\n",
    "    print(\"x a pour valeur\", x)\n",
    "    x = x * 2\n",
    "print(\"Fin\")"
   ]
  },
  {
   "cell_type": "markdown",
   "id": "ffb9f51a",
   "metadata": {},
   "source": [
    "# Fonctions\n",
    "## Définition"
   ]
  },
  {
   "cell_type": "code",
   "execution_count": 21,
   "id": "be8b9ac5",
   "metadata": {},
   "outputs": [],
   "source": [
    "def carre(valeur):\n",
    "    resultat = valeur**2\n",
    "    return resultat\n",
    "\n",
    "def cube(valeur):\n",
    "    resultat = valeur**3\n",
    "    return resultat"
   ]
  },
  {
   "cell_type": "code",
   "execution_count": 22,
   "id": "f1b471f9",
   "metadata": {},
   "outputs": [
    {
     "data": {
      "text/plain": [
       "4"
      ]
     },
     "execution_count": 22,
     "metadata": {},
     "output_type": "execute_result"
    }
   ],
   "source": [
    "carre(2)"
   ]
  },
  {
   "cell_type": "code",
   "execution_count": 23,
   "id": "2573f6d1",
   "metadata": {},
   "outputs": [
    {
     "data": {
      "text/plain": [
       "8"
      ]
     },
     "execution_count": 23,
     "metadata": {},
     "output_type": "execute_result"
    }
   ],
   "source": [
    "cube(2)"
   ]
  },
  {
   "cell_type": "markdown",
   "id": "90aaa3c7",
   "metadata": {},
   "source": [
    "## Module"
   ]
  },
  {
   "cell_type": "code",
   "execution_count": 24,
   "id": "4cb24e70",
   "metadata": {},
   "outputs": [],
   "source": [
    "import pandas as pd\n"
   ]
  },
  {
   "cell_type": "markdown",
   "id": "7dee64dd",
   "metadata": {},
   "source": [
    "import du module pandas avec toutes les fonctions et utilisation d'un alias pd"
   ]
  },
  {
   "cell_type": "markdown",
   "id": "ee464d12",
   "metadata": {},
   "source": [
    "# Chargement des données de prix"
   ]
  },
  {
   "cell_type": "markdown",
   "id": "f03a98de",
   "metadata": {},
   "source": [
    "## Code brut"
   ]
  },
  {
   "attachments": {},
   "cell_type": "markdown",
   "id": "3f77ebb8",
   "metadata": {},
   "source": [
    "### Lecture des fichiers Excel\n",
    "\n",
    "Chargement des données à partir de https://www.data.gouv.fr/fr/datasets/demandes-de-valeurs-foncieres-geolocalisees/ en prenant le 1er semestre 2022 et l'année 2021"
   ]
  },
  {
   "cell_type": "code",
   "execution_count": 25,
   "id": "af4e9efc",
   "metadata": {},
   "outputs": [
    {
     "name": "stdout",
     "output_type": "stream",
     "text": [
      "taille du jeu de donnees : (1429093, 40)\n"
     ]
    }
   ],
   "source": [
    "# lecture du fichier excel\n",
    "df_2022 = pd.read_csv('C:/Users/antho/Documents/GitHub/Git/Predict_Immo/input/AvecCoordonneesGeo/full.csv', delimiter = ',', low_memory = False)\n",
    "print(\"taille du jeu de donnees :\", df_2022.shape)"
   ]
  },
  {
   "cell_type": "code",
   "execution_count": 26,
   "id": "7ef8108c",
   "metadata": {},
   "outputs": [
    {
     "data": {
      "text/html": [
       "<div>\n",
       "<style scoped>\n",
       "    .dataframe tbody tr th:only-of-type {\n",
       "        vertical-align: middle;\n",
       "    }\n",
       "\n",
       "    .dataframe tbody tr th {\n",
       "        vertical-align: top;\n",
       "    }\n",
       "\n",
       "    .dataframe thead th {\n",
       "        text-align: right;\n",
       "    }\n",
       "</style>\n",
       "<table border=\"1\" class=\"dataframe\">\n",
       "  <thead>\n",
       "    <tr style=\"text-align: right;\">\n",
       "      <th></th>\n",
       "      <th>id_mutation</th>\n",
       "      <th>date_mutation</th>\n",
       "      <th>numero_disposition</th>\n",
       "      <th>nature_mutation</th>\n",
       "      <th>valeur_fonciere</th>\n",
       "      <th>adresse_numero</th>\n",
       "      <th>adresse_suffixe</th>\n",
       "      <th>adresse_nom_voie</th>\n",
       "      <th>adresse_code_voie</th>\n",
       "      <th>code_postal</th>\n",
       "      <th>...</th>\n",
       "      <th>type_local</th>\n",
       "      <th>surface_reelle_bati</th>\n",
       "      <th>nombre_pieces_principales</th>\n",
       "      <th>code_nature_culture</th>\n",
       "      <th>nature_culture</th>\n",
       "      <th>code_nature_culture_speciale</th>\n",
       "      <th>nature_culture_speciale</th>\n",
       "      <th>surface_terrain</th>\n",
       "      <th>longitude</th>\n",
       "      <th>latitude</th>\n",
       "    </tr>\n",
       "  </thead>\n",
       "  <tbody>\n",
       "    <tr>\n",
       "      <th>0</th>\n",
       "      <td>2022-1</td>\n",
       "      <td>2022-01-03</td>\n",
       "      <td>1</td>\n",
       "      <td>Vente</td>\n",
       "      <td>55000.0</td>\n",
       "      <td>13.0</td>\n",
       "      <td>NaN</td>\n",
       "      <td>RUE DE LA LIBERTE</td>\n",
       "      <td>2280</td>\n",
       "      <td>1000.0</td>\n",
       "      <td>...</td>\n",
       "      <td>Appartement</td>\n",
       "      <td>24.0</td>\n",
       "      <td>1.0</td>\n",
       "      <td>NaN</td>\n",
       "      <td>NaN</td>\n",
       "      <td>NaN</td>\n",
       "      <td>NaN</td>\n",
       "      <td>NaN</td>\n",
       "      <td>5.218706</td>\n",
       "      <td>46.198054</td>\n",
       "    </tr>\n",
       "    <tr>\n",
       "      <th>1</th>\n",
       "      <td>2022-2</td>\n",
       "      <td>2022-01-03</td>\n",
       "      <td>1</td>\n",
       "      <td>Vente</td>\n",
       "      <td>143000.0</td>\n",
       "      <td>NaN</td>\n",
       "      <td>NaN</td>\n",
       "      <td>CHAMP COCHET</td>\n",
       "      <td>B010</td>\n",
       "      <td>1480.0</td>\n",
       "      <td>...</td>\n",
       "      <td>NaN</td>\n",
       "      <td>NaN</td>\n",
       "      <td>NaN</td>\n",
       "      <td>S</td>\n",
       "      <td>sols</td>\n",
       "      <td>NaN</td>\n",
       "      <td>NaN</td>\n",
       "      <td>84.0</td>\n",
       "      <td>4.847867</td>\n",
       "      <td>46.000617</td>\n",
       "    </tr>\n",
       "    <tr>\n",
       "      <th>2</th>\n",
       "      <td>2022-2</td>\n",
       "      <td>2022-01-03</td>\n",
       "      <td>1</td>\n",
       "      <td>Vente</td>\n",
       "      <td>143000.0</td>\n",
       "      <td>NaN</td>\n",
       "      <td>NaN</td>\n",
       "      <td>CHAMP COCHET</td>\n",
       "      <td>B010</td>\n",
       "      <td>1480.0</td>\n",
       "      <td>...</td>\n",
       "      <td>NaN</td>\n",
       "      <td>NaN</td>\n",
       "      <td>NaN</td>\n",
       "      <td>S</td>\n",
       "      <td>sols</td>\n",
       "      <td>NaN</td>\n",
       "      <td>NaN</td>\n",
       "      <td>88.0</td>\n",
       "      <td>4.847920</td>\n",
       "      <td>46.000576</td>\n",
       "    </tr>\n",
       "    <tr>\n",
       "      <th>3</th>\n",
       "      <td>2022-2</td>\n",
       "      <td>2022-01-03</td>\n",
       "      <td>1</td>\n",
       "      <td>Vente</td>\n",
       "      <td>143000.0</td>\n",
       "      <td>98.0</td>\n",
       "      <td>NaN</td>\n",
       "      <td>RTE DE LA DOMBES</td>\n",
       "      <td>0055</td>\n",
       "      <td>1480.0</td>\n",
       "      <td>...</td>\n",
       "      <td>Appartement</td>\n",
       "      <td>140.0</td>\n",
       "      <td>3.0</td>\n",
       "      <td>NaN</td>\n",
       "      <td>NaN</td>\n",
       "      <td>NaN</td>\n",
       "      <td>NaN</td>\n",
       "      <td>NaN</td>\n",
       "      <td>4.848345</td>\n",
       "      <td>46.000585</td>\n",
       "    </tr>\n",
       "    <tr>\n",
       "      <th>4</th>\n",
       "      <td>2022-3</td>\n",
       "      <td>2022-01-04</td>\n",
       "      <td>1</td>\n",
       "      <td>Vente</td>\n",
       "      <td>300.0</td>\n",
       "      <td>NaN</td>\n",
       "      <td>NaN</td>\n",
       "      <td>AUX PIERRES</td>\n",
       "      <td>B031</td>\n",
       "      <td>1480.0</td>\n",
       "      <td>...</td>\n",
       "      <td>NaN</td>\n",
       "      <td>NaN</td>\n",
       "      <td>NaN</td>\n",
       "      <td>T</td>\n",
       "      <td>terres</td>\n",
       "      <td>NaN</td>\n",
       "      <td>NaN</td>\n",
       "      <td>510.0</td>\n",
       "      <td>4.747627</td>\n",
       "      <td>46.045434</td>\n",
       "    </tr>\n",
       "  </tbody>\n",
       "</table>\n",
       "<p>5 rows × 40 columns</p>\n",
       "</div>"
      ],
      "text/plain": [
       "  id_mutation date_mutation  numero_disposition nature_mutation  \\\n",
       "0      2022-1    2022-01-03                   1           Vente   \n",
       "1      2022-2    2022-01-03                   1           Vente   \n",
       "2      2022-2    2022-01-03                   1           Vente   \n",
       "3      2022-2    2022-01-03                   1           Vente   \n",
       "4      2022-3    2022-01-04                   1           Vente   \n",
       "\n",
       "   valeur_fonciere  adresse_numero adresse_suffixe   adresse_nom_voie  \\\n",
       "0          55000.0            13.0             NaN  RUE DE LA LIBERTE   \n",
       "1         143000.0             NaN             NaN       CHAMP COCHET   \n",
       "2         143000.0             NaN             NaN       CHAMP COCHET   \n",
       "3         143000.0            98.0             NaN   RTE DE LA DOMBES   \n",
       "4            300.0             NaN             NaN        AUX PIERRES   \n",
       "\n",
       "  adresse_code_voie  code_postal  ...   type_local surface_reelle_bati  \\\n",
       "0              2280       1000.0  ...  Appartement                24.0   \n",
       "1              B010       1480.0  ...          NaN                 NaN   \n",
       "2              B010       1480.0  ...          NaN                 NaN   \n",
       "3              0055       1480.0  ...  Appartement               140.0   \n",
       "4              B031       1480.0  ...          NaN                 NaN   \n",
       "\n",
       "  nombre_pieces_principales  code_nature_culture nature_culture  \\\n",
       "0                       1.0                  NaN            NaN   \n",
       "1                       NaN                    S           sols   \n",
       "2                       NaN                    S           sols   \n",
       "3                       3.0                  NaN            NaN   \n",
       "4                       NaN                    T         terres   \n",
       "\n",
       "  code_nature_culture_speciale nature_culture_speciale surface_terrain  \\\n",
       "0                          NaN                     NaN             NaN   \n",
       "1                          NaN                     NaN            84.0   \n",
       "2                          NaN                     NaN            88.0   \n",
       "3                          NaN                     NaN             NaN   \n",
       "4                          NaN                     NaN           510.0   \n",
       "\n",
       "  longitude   latitude  \n",
       "0  5.218706  46.198054  \n",
       "1  4.847867  46.000617  \n",
       "2  4.847920  46.000576  \n",
       "3  4.848345  46.000585  \n",
       "4  4.747627  46.045434  \n",
       "\n",
       "[5 rows x 40 columns]"
      ]
     },
     "execution_count": 26,
     "metadata": {},
     "output_type": "execute_result"
    }
   ],
   "source": [
    "df_2022.head(5)"
   ]
  },
  {
   "cell_type": "code",
   "execution_count": 27,
   "id": "9f199bf9",
   "metadata": {},
   "outputs": [
    {
     "name": "stdout",
     "output_type": "stream",
     "text": [
      "taille du jeu de donnees : (4375223, 40)\n"
     ]
    }
   ],
   "source": [
    "# lecture du fichier excel\n",
    "df_2021 = pd.read_csv('C:/Users/antho/Documents/GitHub/Git/Predict_Immo/input/AvecCoordonneesGeo/full2021.csv', delimiter = ',', low_memory = False)\n",
    "print(\"taille du jeu de donnees :\", df_2021.shape)"
   ]
  },
  {
   "cell_type": "markdown",
   "id": "df13987c",
   "metadata": {},
   "source": [
    "### Concaténation des données"
   ]
  },
  {
   "cell_type": "code",
   "execution_count": 28,
   "id": "c7327a97",
   "metadata": {},
   "outputs": [],
   "source": [
    "df = pd.concat([df_2022,df_2021])"
   ]
  },
  {
   "cell_type": "code",
   "execution_count": 29,
   "id": "47533a45",
   "metadata": {},
   "outputs": [
    {
     "name": "stdout",
     "output_type": "stream",
     "text": [
      "taille du jeu de donnees : (5804316, 40)\n"
     ]
    }
   ],
   "source": [
    "print(\"taille du jeu de donnees :\", df.shape)"
   ]
  },
  {
   "cell_type": "markdown",
   "id": "2941178a",
   "metadata": {},
   "source": [
    "### Réduction aux données du 75"
   ]
  },
  {
   "cell_type": "code",
   "execution_count": 30,
   "id": "c279167f",
   "metadata": {},
   "outputs": [
    {
     "name": "stdout",
     "output_type": "stream",
     "text": [
      "Departement : 75\n",
      "Taille du jeu de donnees (130696, 40)\n"
     ]
    }
   ],
   "source": [
    "numDep = '75'\n",
    "df['code_departement'].astype(str)\n",
    "# Création d'une colonne booléenne permettant de savoir si le code département correspond au 75\n",
    "df['Validation'] = (df['code_departement'] == numDep )\n",
    "# Réduction de l'ensemble de départ lorsque l'égalité est vraie\n",
    "dfDep = df[df['Validation']==True]\n",
    "# Suppression de la variable de travail précédemment créé\n",
    "dfDep = dfDep.drop('Validation', axis=1)\n",
    "print(\"Departement : {0}\".format(numDep))\n",
    "print(\"Taille du jeu de donnees\", dfDep.shape)"
   ]
  },
  {
   "cell_type": "markdown",
   "id": "c1c843a0",
   "metadata": {},
   "source": [
    "## Un code plus modulaire"
   ]
  },
  {
   "cell_type": "code",
   "execution_count": 31,
   "id": "aa9ea0aa",
   "metadata": {},
   "outputs": [],
   "source": [
    "# Fonction pour lire les donnnées en fonction du fichier\n",
    "def ReadFile(nomFile, delimiter = '|'):\n",
    "    # lecture du fichier excel\n",
    "    df = pd.read_csv(nomFile, delimiter = delimiter, low_memory = False)\n",
    "    print(\"taille du jeu de donnees :\", df.shape)\n",
    "    return df"
   ]
  },
  {
   "cell_type": "code",
   "execution_count": 32,
   "id": "976cfe30",
   "metadata": {},
   "outputs": [],
   "source": [
    "# Fonction pour extraire les données à partir d'un numéro de département\n",
    "def ExtractDepartement(df, numDep):\n",
    "    df['code_departement'].astype(str)\n",
    "    df['Validation'] = (df['code_departement'] == numDep )\n",
    "    dfDep = df[df['Validation']==True]\n",
    "    dfDep = dfDep.drop('Validation', axis=1)\n",
    "    print(\"Departement : {0}\".format(numDep))\n",
    "    print(\"Taille du jeu de donnees\", dfDep.shape)\n",
    "    return dfDep"
   ]
  },
  {
   "cell_type": "code",
   "execution_count": null,
   "id": "c79bbe9a",
   "metadata": {},
   "outputs": [
    {
     "name": "stdout",
     "output_type": "stream",
     "text": [
      "taille du jeu de donnees : (1429093, 40)\n",
      "Departement : 75\n",
      "Taille du jeu de donnees (49372, 40)\n"
     ]
    }
   ],
   "source": [
    "df_2022 = ReadFile(\"../input/AvecCoordonneesGeo/full.csv\", ',')\n",
    "df_75_2022 = ExtractDepartement(df_2022, '75')\n",
    "df_2021 = ReadFile(\"../input/AvecCoordonneesGeo/full2021.csv\", ',')\n",
    "df_75_2021 = ExtractDepartement(df_2021, '75')\n",
    "dfDep = pd.concat([df_75_2022,df_75_2021])\n",
    "print(\"Departement : {0}\".format(numDep))\n",
    "print(\"Taille du jeu de donnees\", dfDep.shape)\n"
   ]
  },
  {
   "cell_type": "markdown",
   "id": "ecc1febc",
   "metadata": {},
   "source": [
    "# Un peu de pandas"
   ]
  },
  {
   "cell_type": "markdown",
   "id": "1978f9dc",
   "metadata": {},
   "source": [
    "## Equivalent du Select en SQL\n",
    "\n",
    "*SELECT valeur_fonciere, surface_reelle_bati FROM TData*"
   ]
  },
  {
   "cell_type": "code",
   "execution_count": null,
   "id": "9c0efde3",
   "metadata": {},
   "outputs": [],
   "source": [
    "col_list = ['valeur_fonciere', 'surface_reelle_bati']\n",
    "df[col_list]"
   ]
  },
  {
   "cell_type": "markdown",
   "id": "99577a8c",
   "metadata": {},
   "source": [
    "## Select avec une clause WHERE\n",
    "*SELECT valeur_fonciere, surface_reelle_bati FROM TData \n",
    "WHERE valeur_fonciere > 50000 AND surface_réelle_bati < 100*"
   ]
  },
  {
   "cell_type": "code",
   "execution_count": null,
   "id": "df97058a",
   "metadata": {},
   "outputs": [],
   "source": [
    "valeur_fonciere_mask = df['valeur_fonciere'] > 50000 \n",
    "surface_réelle_bati_mask = df['surface_reelle_bati'] < 100\n",
    "df.loc[ valeur_fonciere_mask & surface_réelle_bati_mask, col_list]\n"
   ]
  },
  {
   "cell_type": "markdown",
   "id": "ca2edfda",
   "metadata": {},
   "source": [
    "## Tri des résultas par rapport aux valeurs des colonnes\n",
    "*SELECT valeur_fonciere, surface_reelle_bati FROM TData \n",
    "WHERE valeur_fonciere > 50000 AND surface_réelle_bati < 100\n",
    "ORDER BY valeur_fonciere DESC, surface_réelle_bati*"
   ]
  },
  {
   "cell_type": "code",
   "execution_count": null,
   "id": "d5e4f366",
   "metadata": {},
   "outputs": [],
   "source": [
    "df.sort_values(['valeur_fonciere', 'surface_reelle_bati'], ascending = [False, True])"
   ]
  },
  {
   "cell_type": "markdown",
   "id": "e2bb67d6",
   "metadata": {},
   "source": [
    "## Limitation aux 10 premiers résultats\n",
    "*SELECT valeur_fonciere, surface_reelle_bati FROM TData \n",
    "WHERE valeur_fonciere > 50000 AND surface_réelle_bati < 100\n",
    "ORDER BY valeur_fonciere DESC, surface_réelle_bati\n",
    "LIMIT 10*"
   ]
  },
  {
   "cell_type": "code",
   "execution_count": null,
   "id": "af592291",
   "metadata": {},
   "outputs": [],
   "source": [
    "df.sort_values(['valeur_fonciere', 'surface_reelle_bati'], ascending = [False, True]).head(10)"
   ]
  },
  {
   "cell_type": "markdown",
   "id": "8137bb59",
   "metadata": {},
   "source": [
    "## Equivalent du groupby\n",
    "*SELECT MEAN(valeur_fonciere) FROM TData \n",
    "GROUP BY nom_commune*"
   ]
  },
  {
   "cell_type": "code",
   "execution_count": null,
   "id": "05693027",
   "metadata": {},
   "outputs": [],
   "source": [
    "df[['valeur_fonciere','nom_commune']].groupby(by=['nom_commune']).mean()"
   ]
  },
  {
   "cell_type": "markdown",
   "id": "b284896a",
   "metadata": {},
   "source": [
    "## Union et jointure"
   ]
  },
  {
   "cell_type": "code",
   "execution_count": null,
   "id": "6944d697",
   "metadata": {},
   "outputs": [],
   "source": [
    "df1 = pd.DataFrame({'A': [3, 5], 'B': [1, 2]}, index = [0, 1])\n",
    "df2 = pd.DataFrame({'A': [6, 7], 'B': [4, 9]}, index = [2, 3])\n",
    "pd.concat([df1, df2])\n",
    "    "
   ]
  },
  {
   "cell_type": "code",
   "execution_count": null,
   "id": "81c4ba79",
   "metadata": {},
   "outputs": [],
   "source": [
    "df1 = pd.DataFrame({'A': [3, 5], 'B': [1, 2]}) \n",
    "df2 = pd.DataFrame({'A': [5, 3, 7], 'C': [9, 2, 0]}) \n",
    "pd.merge(df1, df2)"
   ]
  },
  {
   "cell_type": "code",
   "execution_count": null,
   "id": "f31999d0",
   "metadata": {},
   "outputs": [],
   "source": []
  }
 ],
 "metadata": {
  "kernelspec": {
   "display_name": "Python 3 (ipykernel)",
   "language": "python",
   "name": "python3"
  },
  "language_info": {
   "codemirror_mode": {
    "name": "ipython",
    "version": 3
   },
   "file_extension": ".py",
   "mimetype": "text/x-python",
   "name": "python",
   "nbconvert_exporter": "python",
   "pygments_lexer": "ipython3",
   "version": "3.9.13"
  }
 },
 "nbformat": 4,
 "nbformat_minor": 5
}
