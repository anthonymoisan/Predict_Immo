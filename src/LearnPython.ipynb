{
 "cells": [
  {
   "cell_type": "markdown",
   "id": "36528fcb",
   "metadata": {},
   "source": [
    "# Mes débuts en Python"
   ]
  },
  {
   "cell_type": "markdown",
   "id": "d28801d3",
   "metadata": {},
   "source": [
    "## Interpreteur python actif"
   ]
  },
  {
   "cell_type": "code",
   "execution_count": 1,
   "id": "535352c3",
   "metadata": {},
   "outputs": [
    {
     "name": "stdout",
     "output_type": "stream",
     "text": [
      "Hello, bienvenus dans le monde de Python\n"
     ]
    }
   ],
   "source": [
    "print(\"Hello, bienvenus dans le monde de Python\")"
   ]
  },
  {
   "cell_type": "markdown",
   "id": "5ceb05ad",
   "metadata": {},
   "source": [
    "## Manipulation de nombres"
   ]
  },
  {
   "cell_type": "code",
   "execution_count": 2,
   "id": "731ced52",
   "metadata": {},
   "outputs": [
    {
     "name": "stdout",
     "output_type": "stream",
     "text": [
      "4\n",
      "<class 'int'>\n"
     ]
    }
   ],
   "source": [
    "a = 2+2\n",
    "print(a)\n",
    "print(type(a))"
   ]
  },
  {
   "cell_type": "code",
   "execution_count": 3,
   "id": "dab430b2",
   "metadata": {},
   "outputs": [
    {
     "name": "stdout",
     "output_type": "stream",
     "text": [
      "0.8\n",
      "<class 'float'>\n"
     ]
    }
   ],
   "source": [
    "a = a/5\n",
    "print(a)\n",
    "print(type(a))"
   ]
  },
  {
   "cell_type": "code",
   "execution_count": 4,
   "id": "dd09ed7b",
   "metadata": {},
   "outputs": [
    {
     "data": {
      "text/plain": [
       "17"
      ]
     },
     "execution_count": 4,
     "metadata": {},
     "output_type": "execute_result"
    }
   ],
   "source": [
    "5 * 3 + 2"
   ]
  },
  {
   "cell_type": "code",
   "execution_count": 5,
   "id": "979df29a",
   "metadata": {},
   "outputs": [
    {
     "data": {
      "text/plain": [
       "5"
      ]
     },
     "execution_count": 5,
     "metadata": {},
     "output_type": "execute_result"
    }
   ],
   "source": [
    "17 // 3"
   ]
  },
  {
   "cell_type": "code",
   "execution_count": 6,
   "id": "2b250a29",
   "metadata": {},
   "outputs": [
    {
     "data": {
      "text/plain": [
       "2"
      ]
     },
     "execution_count": 6,
     "metadata": {},
     "output_type": "execute_result"
    }
   ],
   "source": [
    "17 % 3"
   ]
  },
  {
   "cell_type": "code",
   "execution_count": 7,
   "id": "7707933c",
   "metadata": {},
   "outputs": [
    {
     "data": {
      "text/plain": [
       "25"
      ]
     },
     "execution_count": 7,
     "metadata": {},
     "output_type": "execute_result"
    }
   ],
   "source": [
    "5**2"
   ]
  },
  {
   "cell_type": "markdown",
   "id": "038bc93c",
   "metadata": {},
   "source": [
    "## Manipulation de chaines de caractères"
   ]
  },
  {
   "cell_type": "markdown",
   "id": "b2805b44",
   "metadata": {},
   "source": [
    "Utilisation des guillemets simples ou doubles '' ou \"\""
   ]
  },
  {
   "cell_type": "code",
   "execution_count": 8,
   "id": "c818dd81",
   "metadata": {},
   "outputs": [
    {
     "data": {
      "text/plain": [
       "'Tout va bien'"
      ]
     },
     "execution_count": 8,
     "metadata": {},
     "output_type": "execute_result"
    }
   ],
   "source": [
    "\"Tout va bien\""
   ]
  },
  {
   "cell_type": "code",
   "execution_count": 9,
   "id": "0ad5d34c",
   "metadata": {},
   "outputs": [
    {
     "data": {
      "text/plain": [
       "'Tout va bien'"
      ]
     },
     "execution_count": 9,
     "metadata": {},
     "output_type": "execute_result"
    }
   ],
   "source": [
    "'Tout va bien'"
   ]
  },
  {
   "cell_type": "code",
   "execution_count": 10,
   "id": "d361877e",
   "metadata": {},
   "outputs": [
    {
     "data": {
      "text/plain": [
       "34"
      ]
     },
     "execution_count": 10,
     "metadata": {},
     "output_type": "execute_result"
    }
   ],
   "source": [
    "s = 'supercalifragilisticexpialidocious'\n",
    "len(s)"
   ]
  },
  {
   "cell_type": "markdown",
   "id": "bf964079",
   "metadata": {},
   "source": [
    "https://docs.python.org/fr/3/library/stdtypes.html#string-methods"
   ]
  },
  {
   "cell_type": "markdown",
   "id": "65ddefaf",
   "metadata": {},
   "source": [
    "## Listes"
   ]
  },
  {
   "cell_type": "markdown",
   "id": "af2d634c",
   "metadata": {},
   "source": [
    "### Création d'une liste"
   ]
  },
  {
   "cell_type": "markdown",
   "id": "bbe5994e",
   "metadata": {},
   "source": [
    "Utilisation de [ ]"
   ]
  },
  {
   "cell_type": "code",
   "execution_count": 11,
   "id": "6e0023bb",
   "metadata": {},
   "outputs": [
    {
     "data": {
      "text/plain": [
       "[1, 4, 9, 16, 25]"
      ]
     },
     "execution_count": 11,
     "metadata": {},
     "output_type": "execute_result"
    }
   ],
   "source": [
    "squares = [1, 4, 9, 16, 25]\n",
    "squares"
   ]
  },
  {
   "cell_type": "markdown",
   "id": "d0283022",
   "metadata": {},
   "source": [
    "### Accès par index\n",
    "Les chaines de caractères sont immuables au contraire des listes"
   ]
  },
  {
   "cell_type": "code",
   "execution_count": 12,
   "id": "3782a6a5",
   "metadata": {},
   "outputs": [
    {
     "data": {
      "text/plain": [
       "[1, 3, 9, 16, 25]"
      ]
     },
     "execution_count": 12,
     "metadata": {},
     "output_type": "execute_result"
    }
   ],
   "source": [
    "squares[1] = 3\n",
    "squares"
   ]
  },
  {
   "cell_type": "code",
   "execution_count": 13,
   "id": "d0aae35a",
   "metadata": {},
   "outputs": [
    {
     "data": {
      "text/plain": [
       "1"
      ]
     },
     "execution_count": 13,
     "metadata": {},
     "output_type": "execute_result"
    }
   ],
   "source": [
    "squares[0]"
   ]
  },
  {
   "cell_type": "code",
   "execution_count": 14,
   "id": "5da86ac0",
   "metadata": {},
   "outputs": [
    {
     "data": {
      "text/plain": [
       "25"
      ]
     },
     "execution_count": 14,
     "metadata": {},
     "output_type": "execute_result"
    }
   ],
   "source": [
    "squares[-1]"
   ]
  },
  {
   "cell_type": "markdown",
   "id": "8073a8d0",
   "metadata": {},
   "source": [
    "### Parcourir une liste"
   ]
  },
  {
   "cell_type": "code",
   "execution_count": 15,
   "id": "e72f5075",
   "metadata": {},
   "outputs": [
    {
     "name": "stdout",
     "output_type": "stream",
     "text": [
      "1\n",
      "3\n",
      "9\n",
      "16\n",
      "25\n"
     ]
    }
   ],
   "source": [
    "for elem in squares:\n",
    "    print(elem)"
   ]
  },
  {
   "cell_type": "markdown",
   "id": "612bf2ae",
   "metadata": {},
   "source": [
    "https://docs.python.org/3/tutorial/datastructures.html"
   ]
  },
  {
   "cell_type": "markdown",
   "id": "4d7034c6",
   "metadata": {},
   "source": [
    "## Les dictionnaires"
   ]
  },
  {
   "cell_type": "markdown",
   "id": "3f3a5939",
   "metadata": {},
   "source": [
    "### Création d'un dictionnaire\n",
    "Utilisation de {}"
   ]
  },
  {
   "cell_type": "code",
   "execution_count": 16,
   "id": "8438b03a",
   "metadata": {},
   "outputs": [],
   "source": [
    "MLB_team = {\n",
    "    'Colorado' : 'Rockies',\n",
    "    'Boston'   : 'Red Sox',\n",
    "    'Minnesota': 'Twins',\n",
    "    'Milwaukee': 'Brewers',\n",
    "    'Seattle'  : 'Mariners'\n",
    "}"
   ]
  },
  {
   "cell_type": "markdown",
   "id": "a5073d92",
   "metadata": {},
   "source": [
    "### Accès par clé"
   ]
  },
  {
   "cell_type": "code",
   "execution_count": 17,
   "id": "67b30a79",
   "metadata": {},
   "outputs": [
    {
     "data": {
      "text/plain": [
       "'Red Sox'"
      ]
     },
     "execution_count": 17,
     "metadata": {},
     "output_type": "execute_result"
    }
   ],
   "source": [
    "MLB_team['Boston']"
   ]
  },
  {
   "cell_type": "markdown",
   "id": "11e2f6f2",
   "metadata": {},
   "source": [
    "### Parcourir un dictionnaire"
   ]
  },
  {
   "cell_type": "code",
   "execution_count": 18,
   "id": "2dfef0e1",
   "metadata": {},
   "outputs": [
    {
     "name": "stdout",
     "output_type": "stream",
     "text": [
      "Colorado:Rockies\n",
      "Boston:Red Sox\n",
      "Minnesota:Twins\n",
      "Milwaukee:Brewers\n",
      "Seattle:Mariners\n"
     ]
    }
   ],
   "source": [
    "for cle, val in MLB_team.items():\n",
    "    print(cle+\":\"+val)"
   ]
  },
  {
   "cell_type": "markdown",
   "id": "e2f76108",
   "metadata": {},
   "source": [
    "# Boucles"
   ]
  },
  {
   "cell_type": "markdown",
   "id": "dc4d5137",
   "metadata": {},
   "source": [
    "## Boucle bornée"
   ]
  },
  {
   "cell_type": "code",
   "execution_count": 19,
   "id": "89e96e75",
   "metadata": {},
   "outputs": [
    {
     "name": "stdout",
     "output_type": "stream",
     "text": [
      "i a pour valeur 0\n",
      "i a pour valeur 1\n",
      "i a pour valeur 2\n",
      "i a pour valeur 3\n"
     ]
    }
   ],
   "source": [
    "for i in [0, 1, 2, 3]:\n",
    "    print(\"i a pour valeur\", i)"
   ]
  },
  {
   "cell_type": "markdown",
   "id": "1f404f55",
   "metadata": {},
   "source": [
    "## Boucle non bornée"
   ]
  },
  {
   "cell_type": "code",
   "execution_count": 20,
   "id": "c5be829c",
   "metadata": {},
   "outputs": [
    {
     "name": "stdout",
     "output_type": "stream",
     "text": [
      "x a pour valeur 1\n",
      "x a pour valeur 2\n",
      "x a pour valeur 4\n",
      "x a pour valeur 8\n",
      "Fin\n"
     ]
    }
   ],
   "source": [
    "x = 1\n",
    "while x < 10:\n",
    "    print(\"x a pour valeur\", x)\n",
    "    x = x * 2\n",
    "print(\"Fin\")"
   ]
  },
  {
   "cell_type": "markdown",
   "id": "ffb9f51a",
   "metadata": {},
   "source": [
    "# Fonctions\n",
    "## Définition"
   ]
  },
  {
   "cell_type": "code",
   "execution_count": 21,
   "id": "be8b9ac5",
   "metadata": {},
   "outputs": [],
   "source": [
    "def carre(valeur):\n",
    "    resultat = valeur**2\n",
    "    return resultat\n",
    "\n",
    "def cube(valeur):\n",
    "    resultat = valeur**3\n",
    "    return resultat"
   ]
  },
  {
   "cell_type": "code",
   "execution_count": 22,
   "id": "f1b471f9",
   "metadata": {},
   "outputs": [
    {
     "data": {
      "text/plain": [
       "4"
      ]
     },
     "execution_count": 22,
     "metadata": {},
     "output_type": "execute_result"
    }
   ],
   "source": [
    "carre(2)"
   ]
  },
  {
   "cell_type": "code",
   "execution_count": 23,
   "id": "2573f6d1",
   "metadata": {},
   "outputs": [
    {
     "data": {
      "text/plain": [
       "8"
      ]
     },
     "execution_count": 23,
     "metadata": {},
     "output_type": "execute_result"
    }
   ],
   "source": [
    "cube(2)"
   ]
  },
  {
   "cell_type": "markdown",
   "id": "90aaa3c7",
   "metadata": {},
   "source": [
    "## Module"
   ]
  },
  {
   "cell_type": "code",
   "execution_count": 24,
   "id": "4cb24e70",
   "metadata": {},
   "outputs": [],
   "source": [
    "import pandas as pd\n"
   ]
  },
  {
   "cell_type": "markdown",
   "id": "7dee64dd",
   "metadata": {},
   "source": [
    "import du module pandas avec toutes les fonctions et utilisation d'un alias pd"
   ]
  },
  {
   "cell_type": "markdown",
   "id": "ee464d12",
   "metadata": {},
   "source": [
    "# Chargement des données de prix"
   ]
  },
  {
   "cell_type": "markdown",
   "id": "f03a98de",
   "metadata": {},
   "source": [
    "## Code brut"
   ]
  },
  {
   "cell_type": "markdown",
   "id": "3f77ebb8",
   "metadata": {},
   "source": [
    "### Lecture des fichiers Excel"
   ]
  },
  {
   "cell_type": "code",
   "execution_count": 25,
   "id": "af4e9efc",
   "metadata": {},
   "outputs": [
    {
     "name": "stdout",
     "output_type": "stream",
     "text": [
      "taille du jeu de donnees : (1429093, 40)\n"
     ]
    }
   ],
   "source": [
    "# lecture du fichier excel\n",
    "df_2022 = pd.read_csv('C:/Users/antho/Documents/GitHub/Git/Predict_Immo/input/AvecCoordonneesGeo/full.csv', delimiter = ',', low_memory = False)\n",
    "print(\"taille du jeu de donnees :\", df_2022.shape)"
   ]
  },
  {
   "cell_type": "code",
   "execution_count": 26,
   "id": "7ef8108c",
   "metadata": {},
   "outputs": [
    {
     "data": {
      "text/html": [
       "<div>\n",
       "<style scoped>\n",
       "    .dataframe tbody tr th:only-of-type {\n",
       "        vertical-align: middle;\n",
       "    }\n",
       "\n",
       "    .dataframe tbody tr th {\n",
       "        vertical-align: top;\n",
       "    }\n",
       "\n",
       "    .dataframe thead th {\n",
       "        text-align: right;\n",
       "    }\n",
       "</style>\n",
       "<table border=\"1\" class=\"dataframe\">\n",
       "  <thead>\n",
       "    <tr style=\"text-align: right;\">\n",
       "      <th></th>\n",
       "      <th>id_mutation</th>\n",
       "      <th>date_mutation</th>\n",
       "      <th>numero_disposition</th>\n",
       "      <th>nature_mutation</th>\n",
       "      <th>valeur_fonciere</th>\n",
       "      <th>adresse_numero</th>\n",
       "      <th>adresse_suffixe</th>\n",
       "      <th>adresse_nom_voie</th>\n",
       "      <th>adresse_code_voie</th>\n",
       "      <th>code_postal</th>\n",
       "      <th>...</th>\n",
       "      <th>type_local</th>\n",
       "      <th>surface_reelle_bati</th>\n",
       "      <th>nombre_pieces_principales</th>\n",
       "      <th>code_nature_culture</th>\n",
       "      <th>nature_culture</th>\n",
       "      <th>code_nature_culture_speciale</th>\n",
       "      <th>nature_culture_speciale</th>\n",
       "      <th>surface_terrain</th>\n",
       "      <th>longitude</th>\n",
       "      <th>latitude</th>\n",
       "    </tr>\n",
       "  </thead>\n",
       "  <tbody>\n",
       "    <tr>\n",
       "      <th>0</th>\n",
       "      <td>2022-1</td>\n",
       "      <td>2022-01-03</td>\n",
       "      <td>1</td>\n",
       "      <td>Vente</td>\n",
       "      <td>55000.0</td>\n",
       "      <td>13.0</td>\n",
       "      <td>NaN</td>\n",
       "      <td>RUE DE LA LIBERTE</td>\n",
       "      <td>2280</td>\n",
       "      <td>1000.0</td>\n",
       "      <td>...</td>\n",
       "      <td>Appartement</td>\n",
       "      <td>24.0</td>\n",
       "      <td>1.0</td>\n",
       "      <td>NaN</td>\n",
       "      <td>NaN</td>\n",
       "      <td>NaN</td>\n",
       "      <td>NaN</td>\n",
       "      <td>NaN</td>\n",
       "      <td>5.218706</td>\n",
       "      <td>46.198054</td>\n",
       "    </tr>\n",
       "    <tr>\n",
       "      <th>1</th>\n",
       "      <td>2022-2</td>\n",
       "      <td>2022-01-03</td>\n",
       "      <td>1</td>\n",
       "      <td>Vente</td>\n",
       "      <td>143000.0</td>\n",
       "      <td>NaN</td>\n",
       "      <td>NaN</td>\n",
       "      <td>CHAMP COCHET</td>\n",
       "      <td>B010</td>\n",
       "      <td>1480.0</td>\n",
       "      <td>...</td>\n",
       "      <td>NaN</td>\n",
       "      <td>NaN</td>\n",
       "      <td>NaN</td>\n",
       "      <td>S</td>\n",
       "      <td>sols</td>\n",
       "      <td>NaN</td>\n",
       "      <td>NaN</td>\n",
       "      <td>84.0</td>\n",
       "      <td>4.847867</td>\n",
       "      <td>46.000617</td>\n",
       "    </tr>\n",
       "    <tr>\n",
       "      <th>2</th>\n",
       "      <td>2022-2</td>\n",
       "      <td>2022-01-03</td>\n",
       "      <td>1</td>\n",
       "      <td>Vente</td>\n",
       "      <td>143000.0</td>\n",
       "      <td>NaN</td>\n",
       "      <td>NaN</td>\n",
       "      <td>CHAMP COCHET</td>\n",
       "      <td>B010</td>\n",
       "      <td>1480.0</td>\n",
       "      <td>...</td>\n",
       "      <td>NaN</td>\n",
       "      <td>NaN</td>\n",
       "      <td>NaN</td>\n",
       "      <td>S</td>\n",
       "      <td>sols</td>\n",
       "      <td>NaN</td>\n",
       "      <td>NaN</td>\n",
       "      <td>88.0</td>\n",
       "      <td>4.847920</td>\n",
       "      <td>46.000576</td>\n",
       "    </tr>\n",
       "    <tr>\n",
       "      <th>3</th>\n",
       "      <td>2022-2</td>\n",
       "      <td>2022-01-03</td>\n",
       "      <td>1</td>\n",
       "      <td>Vente</td>\n",
       "      <td>143000.0</td>\n",
       "      <td>98.0</td>\n",
       "      <td>NaN</td>\n",
       "      <td>RTE DE LA DOMBES</td>\n",
       "      <td>0055</td>\n",
       "      <td>1480.0</td>\n",
       "      <td>...</td>\n",
       "      <td>Appartement</td>\n",
       "      <td>140.0</td>\n",
       "      <td>3.0</td>\n",
       "      <td>NaN</td>\n",
       "      <td>NaN</td>\n",
       "      <td>NaN</td>\n",
       "      <td>NaN</td>\n",
       "      <td>NaN</td>\n",
       "      <td>4.848345</td>\n",
       "      <td>46.000585</td>\n",
       "    </tr>\n",
       "    <tr>\n",
       "      <th>4</th>\n",
       "      <td>2022-3</td>\n",
       "      <td>2022-01-04</td>\n",
       "      <td>1</td>\n",
       "      <td>Vente</td>\n",
       "      <td>300.0</td>\n",
       "      <td>NaN</td>\n",
       "      <td>NaN</td>\n",
       "      <td>AUX PIERRES</td>\n",
       "      <td>B031</td>\n",
       "      <td>1480.0</td>\n",
       "      <td>...</td>\n",
       "      <td>NaN</td>\n",
       "      <td>NaN</td>\n",
       "      <td>NaN</td>\n",
       "      <td>T</td>\n",
       "      <td>terres</td>\n",
       "      <td>NaN</td>\n",
       "      <td>NaN</td>\n",
       "      <td>510.0</td>\n",
       "      <td>4.747627</td>\n",
       "      <td>46.045434</td>\n",
       "    </tr>\n",
       "  </tbody>\n",
       "</table>\n",
       "<p>5 rows × 40 columns</p>\n",
       "</div>"
      ],
      "text/plain": [
       "  id_mutation date_mutation  numero_disposition nature_mutation  \\\n",
       "0      2022-1    2022-01-03                   1           Vente   \n",
       "1      2022-2    2022-01-03                   1           Vente   \n",
       "2      2022-2    2022-01-03                   1           Vente   \n",
       "3      2022-2    2022-01-03                   1           Vente   \n",
       "4      2022-3    2022-01-04                   1           Vente   \n",
       "\n",
       "   valeur_fonciere  adresse_numero adresse_suffixe   adresse_nom_voie  \\\n",
       "0          55000.0            13.0             NaN  RUE DE LA LIBERTE   \n",
       "1         143000.0             NaN             NaN       CHAMP COCHET   \n",
       "2         143000.0             NaN             NaN       CHAMP COCHET   \n",
       "3         143000.0            98.0             NaN   RTE DE LA DOMBES   \n",
       "4            300.0             NaN             NaN        AUX PIERRES   \n",
       "\n",
       "  adresse_code_voie  code_postal  ...   type_local surface_reelle_bati  \\\n",
       "0              2280       1000.0  ...  Appartement                24.0   \n",
       "1              B010       1480.0  ...          NaN                 NaN   \n",
       "2              B010       1480.0  ...          NaN                 NaN   \n",
       "3              0055       1480.0  ...  Appartement               140.0   \n",
       "4              B031       1480.0  ...          NaN                 NaN   \n",
       "\n",
       "  nombre_pieces_principales  code_nature_culture nature_culture  \\\n",
       "0                       1.0                  NaN            NaN   \n",
       "1                       NaN                    S           sols   \n",
       "2                       NaN                    S           sols   \n",
       "3                       3.0                  NaN            NaN   \n",
       "4                       NaN                    T         terres   \n",
       "\n",
       "  code_nature_culture_speciale nature_culture_speciale surface_terrain  \\\n",
       "0                          NaN                     NaN             NaN   \n",
       "1                          NaN                     NaN            84.0   \n",
       "2                          NaN                     NaN            88.0   \n",
       "3                          NaN                     NaN             NaN   \n",
       "4                          NaN                     NaN           510.0   \n",
       "\n",
       "  longitude   latitude  \n",
       "0  5.218706  46.198054  \n",
       "1  4.847867  46.000617  \n",
       "2  4.847920  46.000576  \n",
       "3  4.848345  46.000585  \n",
       "4  4.747627  46.045434  \n",
       "\n",
       "[5 rows x 40 columns]"
      ]
     },
     "execution_count": 26,
     "metadata": {},
     "output_type": "execute_result"
    }
   ],
   "source": [
    "df_2022.head(5)"
   ]
  },
  {
   "cell_type": "code",
   "execution_count": 27,
   "id": "9f199bf9",
   "metadata": {},
   "outputs": [
    {
     "name": "stdout",
     "output_type": "stream",
     "text": [
      "taille du jeu de donnees : (4375223, 40)\n"
     ]
    }
   ],
   "source": [
    "# lecture du fichier excel\n",
    "df_2021 = pd.read_csv('C:/Users/antho/Documents/GitHub/Git/Predict_Immo/input/AvecCoordonneesGeo/full2021.csv', delimiter = ',', low_memory = False)\n",
    "print(\"taille du jeu de donnees :\", df_2021.shape)"
   ]
  },
  {
   "cell_type": "markdown",
   "id": "df13987c",
   "metadata": {},
   "source": [
    "### Concaténation des données"
   ]
  },
  {
   "cell_type": "code",
   "execution_count": 28,
   "id": "c7327a97",
   "metadata": {},
   "outputs": [],
   "source": [
    "df = pd.concat([df_2022,df_2021])"
   ]
  },
  {
   "cell_type": "code",
   "execution_count": 29,
   "id": "47533a45",
   "metadata": {},
   "outputs": [
    {
     "name": "stdout",
     "output_type": "stream",
     "text": [
      "taille du jeu de donnees : (5804316, 40)\n"
     ]
    }
   ],
   "source": [
    "print(\"taille du jeu de donnees :\", df.shape)"
   ]
  },
  {
   "cell_type": "markdown",
   "id": "2941178a",
   "metadata": {},
   "source": [
    "### Réduction aux données du 75"
   ]
  },
  {
   "cell_type": "code",
   "execution_count": 30,
   "id": "c279167f",
   "metadata": {},
   "outputs": [
    {
     "name": "stdout",
     "output_type": "stream",
     "text": [
      "Departement : 75\n",
      "Taille du jeu de donnees (130696, 40)\n"
     ]
    }
   ],
   "source": [
    "numDep = '75'\n",
    "df['code_departement'].astype(str)\n",
    "# Création d'une colonne booléenne permettant de savoir si le code département correspond au 75\n",
    "df['Validation'] = (df['code_departement'] == numDep )\n",
    "# Réduction de l'ensemble de départ lorsque l'égalité est vraie\n",
    "dfDep = df[df['Validation']==True]\n",
    "# Suppression de la variable de travail précédemment créé\n",
    "dfDep = dfDep.drop('Validation', axis=1)\n",
    "print(\"Departement : {0}\".format(numDep))\n",
    "print(\"Taille du jeu de donnees\", dfDep.shape)"
   ]
  },
  {
   "cell_type": "markdown",
   "id": "c1c843a0",
   "metadata": {},
   "source": [
    "## Un code plus modulaire"
   ]
  },
  {
   "cell_type": "code",
   "execution_count": 31,
   "id": "aa9ea0aa",
   "metadata": {},
   "outputs": [],
   "source": [
    "# Fonction pour lire les donnnées en fonction du fichier\n",
    "def ReadFile(nomFile, delimiter = '|'):\n",
    "    # lecture du fichier excel\n",
    "    df = pd.read_csv(nomFile, delimiter = delimiter, low_memory = False)\n",
    "    print(\"taille du jeu de donnees :\", df.shape)\n",
    "    return df"
   ]
  },
  {
   "cell_type": "code",
   "execution_count": 32,
   "id": "976cfe30",
   "metadata": {},
   "outputs": [],
   "source": [
    "# Fonction pour extraire les données à partir d'un numéro de département\n",
    "def ExtractDepartement(df, numDep):\n",
    "    df['code_departement'].astype(str)\n",
    "    df['Validation'] = (df['code_departement'] == numDep )\n",
    "    dfDep = df[df['Validation']==True]\n",
    "    dfDep = dfDep.drop('Validation', axis=1)\n",
    "    print(\"Departement : {0}\".format(numDep))\n",
    "    print(\"Taille du jeu de donnees\", dfDep.shape)\n",
    "    return dfDep"
   ]
  },
  {
   "cell_type": "code",
   "execution_count": 33,
   "id": "c79bbe9a",
   "metadata": {},
   "outputs": [
    {
     "name": "stdout",
     "output_type": "stream",
     "text": [
      "taille du jeu de donnees : (1429093, 40)\n",
      "Departement : 75\n",
      "Taille du jeu de donnees (49372, 40)\n",
      "taille du jeu de donnees : (4375223, 40)\n",
      "Departement : 75\n",
      "Taille du jeu de donnees (81324, 40)\n",
      "Departement : 75\n",
      "Taille du jeu de donnees (130696, 40)\n"
     ]
    }
   ],
   "source": [
    "df_2022 = ReadFile(\"../input/AvecCoordonneesGeo/full.csv\", ',')\n",
    "df_75_2022 = ExtractDepartement(df_2022, '75')\n",
    "df_2021 = ReadFile(\"../input/AvecCoordonneesGeo/full2021.csv\", ',')\n",
    "df_75_2021 = ExtractDepartement(df_2021, '75')\n",
    "dfDep = pd.concat([df_75_2022,df_75_2021])\n",
    "print(\"Departement : {0}\".format(numDep))\n",
    "print(\"Taille du jeu de donnees\", dfDep.shape)\n"
   ]
  },
  {
   "cell_type": "markdown",
   "id": "ecc1febc",
   "metadata": {},
   "source": [
    "# Un peu de pandas"
   ]
  },
  {
   "cell_type": "markdown",
   "id": "1978f9dc",
   "metadata": {},
   "source": [
    "## Equivalent du Select en SQL"
   ]
  },
  {
   "cell_type": "code",
   "execution_count": 34,
   "id": "9c0efde3",
   "metadata": {},
   "outputs": [
    {
     "data": {
      "text/html": [
       "<div>\n",
       "<style scoped>\n",
       "    .dataframe tbody tr th:only-of-type {\n",
       "        vertical-align: middle;\n",
       "    }\n",
       "\n",
       "    .dataframe tbody tr th {\n",
       "        vertical-align: top;\n",
       "    }\n",
       "\n",
       "    .dataframe thead th {\n",
       "        text-align: right;\n",
       "    }\n",
       "</style>\n",
       "<table border=\"1\" class=\"dataframe\">\n",
       "  <thead>\n",
       "    <tr style=\"text-align: right;\">\n",
       "      <th></th>\n",
       "      <th>valeur_fonciere</th>\n",
       "      <th>surface_reelle_bati</th>\n",
       "    </tr>\n",
       "  </thead>\n",
       "  <tbody>\n",
       "    <tr>\n",
       "      <th>0</th>\n",
       "      <td>55000.0</td>\n",
       "      <td>24.0</td>\n",
       "    </tr>\n",
       "    <tr>\n",
       "      <th>1</th>\n",
       "      <td>143000.0</td>\n",
       "      <td>NaN</td>\n",
       "    </tr>\n",
       "    <tr>\n",
       "      <th>2</th>\n",
       "      <td>143000.0</td>\n",
       "      <td>NaN</td>\n",
       "    </tr>\n",
       "    <tr>\n",
       "      <th>3</th>\n",
       "      <td>143000.0</td>\n",
       "      <td>140.0</td>\n",
       "    </tr>\n",
       "    <tr>\n",
       "      <th>4</th>\n",
       "      <td>300.0</td>\n",
       "      <td>NaN</td>\n",
       "    </tr>\n",
       "    <tr>\n",
       "      <th>...</th>\n",
       "      <td>...</td>\n",
       "      <td>...</td>\n",
       "    </tr>\n",
       "    <tr>\n",
       "      <th>4375218</th>\n",
       "      <td>383000.0</td>\n",
       "      <td>30.0</td>\n",
       "    </tr>\n",
       "    <tr>\n",
       "      <th>4375219</th>\n",
       "      <td>260000.0</td>\n",
       "      <td>37.0</td>\n",
       "    </tr>\n",
       "    <tr>\n",
       "      <th>4375220</th>\n",
       "      <td>38000.0</td>\n",
       "      <td>NaN</td>\n",
       "    </tr>\n",
       "    <tr>\n",
       "      <th>4375221</th>\n",
       "      <td>38000.0</td>\n",
       "      <td>NaN</td>\n",
       "    </tr>\n",
       "    <tr>\n",
       "      <th>4375222</th>\n",
       "      <td>690000.0</td>\n",
       "      <td>56.0</td>\n",
       "    </tr>\n",
       "  </tbody>\n",
       "</table>\n",
       "<p>5804316 rows × 2 columns</p>\n",
       "</div>"
      ],
      "text/plain": [
       "         valeur_fonciere  surface_reelle_bati\n",
       "0                55000.0                 24.0\n",
       "1               143000.0                  NaN\n",
       "2               143000.0                  NaN\n",
       "3               143000.0                140.0\n",
       "4                  300.0                  NaN\n",
       "...                  ...                  ...\n",
       "4375218         383000.0                 30.0\n",
       "4375219         260000.0                 37.0\n",
       "4375220          38000.0                  NaN\n",
       "4375221          38000.0                  NaN\n",
       "4375222         690000.0                 56.0\n",
       "\n",
       "[5804316 rows x 2 columns]"
      ]
     },
     "execution_count": 34,
     "metadata": {},
     "output_type": "execute_result"
    }
   ],
   "source": [
    "col_list = ['valeur_fonciere', 'surface_reelle_bati']\n",
    "df[col_list]"
   ]
  },
  {
   "cell_type": "markdown",
   "id": "99577a8c",
   "metadata": {},
   "source": [
    "## Select avec une clause WHERE"
   ]
  },
  {
   "cell_type": "code",
   "execution_count": 35,
   "id": "df97058a",
   "metadata": {},
   "outputs": [
    {
     "data": {
      "text/html": [
       "<div>\n",
       "<style scoped>\n",
       "    .dataframe tbody tr th:only-of-type {\n",
       "        vertical-align: middle;\n",
       "    }\n",
       "\n",
       "    .dataframe tbody tr th {\n",
       "        vertical-align: top;\n",
       "    }\n",
       "\n",
       "    .dataframe thead th {\n",
       "        text-align: right;\n",
       "    }\n",
       "</style>\n",
       "<table border=\"1\" class=\"dataframe\">\n",
       "  <thead>\n",
       "    <tr style=\"text-align: right;\">\n",
       "      <th></th>\n",
       "      <th>valeur_fonciere</th>\n",
       "      <th>surface_reelle_bati</th>\n",
       "    </tr>\n",
       "  </thead>\n",
       "  <tbody>\n",
       "    <tr>\n",
       "      <th>0</th>\n",
       "      <td>55000.0</td>\n",
       "      <td>24.0</td>\n",
       "    </tr>\n",
       "    <tr>\n",
       "      <th>18</th>\n",
       "      <td>134000.0</td>\n",
       "      <td>46.0</td>\n",
       "    </tr>\n",
       "    <tr>\n",
       "      <th>28</th>\n",
       "      <td>138000.0</td>\n",
       "      <td>67.0</td>\n",
       "    </tr>\n",
       "    <tr>\n",
       "      <th>31</th>\n",
       "      <td>176000.0</td>\n",
       "      <td>39.0</td>\n",
       "    </tr>\n",
       "    <tr>\n",
       "      <th>36</th>\n",
       "      <td>100000.0</td>\n",
       "      <td>65.0</td>\n",
       "    </tr>\n",
       "    <tr>\n",
       "      <th>...</th>\n",
       "      <td>...</td>\n",
       "      <td>...</td>\n",
       "    </tr>\n",
       "    <tr>\n",
       "      <th>4375216</th>\n",
       "      <td>400000.0</td>\n",
       "      <td>26.0</td>\n",
       "    </tr>\n",
       "    <tr>\n",
       "      <th>4375217</th>\n",
       "      <td>400000.0</td>\n",
       "      <td>25.0</td>\n",
       "    </tr>\n",
       "    <tr>\n",
       "      <th>4375218</th>\n",
       "      <td>383000.0</td>\n",
       "      <td>30.0</td>\n",
       "    </tr>\n",
       "    <tr>\n",
       "      <th>4375219</th>\n",
       "      <td>260000.0</td>\n",
       "      <td>37.0</td>\n",
       "    </tr>\n",
       "    <tr>\n",
       "      <th>4375222</th>\n",
       "      <td>690000.0</td>\n",
       "      <td>56.0</td>\n",
       "    </tr>\n",
       "  </tbody>\n",
       "</table>\n",
       "<p>1307878 rows × 2 columns</p>\n",
       "</div>"
      ],
      "text/plain": [
       "         valeur_fonciere  surface_reelle_bati\n",
       "0                55000.0                 24.0\n",
       "18              134000.0                 46.0\n",
       "28              138000.0                 67.0\n",
       "31              176000.0                 39.0\n",
       "36              100000.0                 65.0\n",
       "...                  ...                  ...\n",
       "4375216         400000.0                 26.0\n",
       "4375217         400000.0                 25.0\n",
       "4375218         383000.0                 30.0\n",
       "4375219         260000.0                 37.0\n",
       "4375222         690000.0                 56.0\n",
       "\n",
       "[1307878 rows x 2 columns]"
      ]
     },
     "execution_count": 35,
     "metadata": {},
     "output_type": "execute_result"
    }
   ],
   "source": [
    "valeur_fonciere_mask = df['valeur_fonciere'] > 50000 \n",
    "surface_réelle_bati_mask = df['surface_reelle_bati'] < 100\n",
    "df.loc[ valeur_fonciere_mask & surface_réelle_bati_mask, col_list]\n"
   ]
  },
  {
   "cell_type": "markdown",
   "id": "ca2edfda",
   "metadata": {},
   "source": [
    "## Tri des résultas par rapport aux valeurs des colonnes"
   ]
  },
  {
   "cell_type": "code",
   "execution_count": 36,
   "id": "d5e4f366",
   "metadata": {},
   "outputs": [
    {
     "data": {
      "text/html": [
       "<div>\n",
       "<style scoped>\n",
       "    .dataframe tbody tr th:only-of-type {\n",
       "        vertical-align: middle;\n",
       "    }\n",
       "\n",
       "    .dataframe tbody tr th {\n",
       "        vertical-align: top;\n",
       "    }\n",
       "\n",
       "    .dataframe thead th {\n",
       "        text-align: right;\n",
       "    }\n",
       "</style>\n",
       "<table border=\"1\" class=\"dataframe\">\n",
       "  <thead>\n",
       "    <tr style=\"text-align: right;\">\n",
       "      <th></th>\n",
       "      <th>id_mutation</th>\n",
       "      <th>date_mutation</th>\n",
       "      <th>numero_disposition</th>\n",
       "      <th>nature_mutation</th>\n",
       "      <th>valeur_fonciere</th>\n",
       "      <th>adresse_numero</th>\n",
       "      <th>adresse_suffixe</th>\n",
       "      <th>adresse_nom_voie</th>\n",
       "      <th>adresse_code_voie</th>\n",
       "      <th>code_postal</th>\n",
       "      <th>...</th>\n",
       "      <th>surface_reelle_bati</th>\n",
       "      <th>nombre_pieces_principales</th>\n",
       "      <th>code_nature_culture</th>\n",
       "      <th>nature_culture</th>\n",
       "      <th>code_nature_culture_speciale</th>\n",
       "      <th>nature_culture_speciale</th>\n",
       "      <th>surface_terrain</th>\n",
       "      <th>longitude</th>\n",
       "      <th>latitude</th>\n",
       "      <th>Validation</th>\n",
       "    </tr>\n",
       "  </thead>\n",
       "  <tbody>\n",
       "    <tr>\n",
       "      <th>4060977</th>\n",
       "      <td>2021-1478097</td>\n",
       "      <td>2021-01-21</td>\n",
       "      <td>1</td>\n",
       "      <td>Vente</td>\n",
       "      <td>620000000.0</td>\n",
       "      <td>76.0</td>\n",
       "      <td>NaN</td>\n",
       "      <td>RUE GUYNEMER</td>\n",
       "      <td>4190</td>\n",
       "      <td>92130.0</td>\n",
       "      <td>...</td>\n",
       "      <td>NaN</td>\n",
       "      <td>NaN</td>\n",
       "      <td>NaN</td>\n",
       "      <td>NaN</td>\n",
       "      <td>NaN</td>\n",
       "      <td>NaN</td>\n",
       "      <td>NaN</td>\n",
       "      <td>2.274025</td>\n",
       "      <td>48.828327</td>\n",
       "      <td>False</td>\n",
       "    </tr>\n",
       "    <tr>\n",
       "      <th>4060978</th>\n",
       "      <td>2021-1478097</td>\n",
       "      <td>2021-01-21</td>\n",
       "      <td>1</td>\n",
       "      <td>Vente</td>\n",
       "      <td>620000000.0</td>\n",
       "      <td>76.0</td>\n",
       "      <td>NaN</td>\n",
       "      <td>RUE GUYNEMER</td>\n",
       "      <td>4190</td>\n",
       "      <td>92130.0</td>\n",
       "      <td>...</td>\n",
       "      <td>NaN</td>\n",
       "      <td>NaN</td>\n",
       "      <td>NaN</td>\n",
       "      <td>NaN</td>\n",
       "      <td>NaN</td>\n",
       "      <td>NaN</td>\n",
       "      <td>NaN</td>\n",
       "      <td>2.274025</td>\n",
       "      <td>48.828327</td>\n",
       "      <td>False</td>\n",
       "    </tr>\n",
       "    <tr>\n",
       "      <th>4060979</th>\n",
       "      <td>2021-1478097</td>\n",
       "      <td>2021-01-21</td>\n",
       "      <td>1</td>\n",
       "      <td>Vente</td>\n",
       "      <td>620000000.0</td>\n",
       "      <td>76.0</td>\n",
       "      <td>NaN</td>\n",
       "      <td>RUE GUYNEMER</td>\n",
       "      <td>4190</td>\n",
       "      <td>92130.0</td>\n",
       "      <td>...</td>\n",
       "      <td>NaN</td>\n",
       "      <td>NaN</td>\n",
       "      <td>NaN</td>\n",
       "      <td>NaN</td>\n",
       "      <td>NaN</td>\n",
       "      <td>NaN</td>\n",
       "      <td>NaN</td>\n",
       "      <td>2.274025</td>\n",
       "      <td>48.828327</td>\n",
       "      <td>False</td>\n",
       "    </tr>\n",
       "    <tr>\n",
       "      <th>4060980</th>\n",
       "      <td>2021-1478097</td>\n",
       "      <td>2021-01-21</td>\n",
       "      <td>1</td>\n",
       "      <td>Vente</td>\n",
       "      <td>620000000.0</td>\n",
       "      <td>76.0</td>\n",
       "      <td>NaN</td>\n",
       "      <td>RUE GUYNEMER</td>\n",
       "      <td>4190</td>\n",
       "      <td>92130.0</td>\n",
       "      <td>...</td>\n",
       "      <td>NaN</td>\n",
       "      <td>NaN</td>\n",
       "      <td>NaN</td>\n",
       "      <td>NaN</td>\n",
       "      <td>NaN</td>\n",
       "      <td>NaN</td>\n",
       "      <td>NaN</td>\n",
       "      <td>2.274025</td>\n",
       "      <td>48.828327</td>\n",
       "      <td>False</td>\n",
       "    </tr>\n",
       "    <tr>\n",
       "      <th>4060981</th>\n",
       "      <td>2021-1478097</td>\n",
       "      <td>2021-01-21</td>\n",
       "      <td>1</td>\n",
       "      <td>Vente</td>\n",
       "      <td>620000000.0</td>\n",
       "      <td>36.0</td>\n",
       "      <td>NaN</td>\n",
       "      <td>RUE GUYNEMER</td>\n",
       "      <td>4190</td>\n",
       "      <td>92130.0</td>\n",
       "      <td>...</td>\n",
       "      <td>NaN</td>\n",
       "      <td>NaN</td>\n",
       "      <td>NaN</td>\n",
       "      <td>NaN</td>\n",
       "      <td>NaN</td>\n",
       "      <td>NaN</td>\n",
       "      <td>NaN</td>\n",
       "      <td>2.274025</td>\n",
       "      <td>48.828327</td>\n",
       "      <td>False</td>\n",
       "    </tr>\n",
       "    <tr>\n",
       "      <th>...</th>\n",
       "      <td>...</td>\n",
       "      <td>...</td>\n",
       "      <td>...</td>\n",
       "      <td>...</td>\n",
       "      <td>...</td>\n",
       "      <td>...</td>\n",
       "      <td>...</td>\n",
       "      <td>...</td>\n",
       "      <td>...</td>\n",
       "      <td>...</td>\n",
       "      <td>...</td>\n",
       "      <td>...</td>\n",
       "      <td>...</td>\n",
       "      <td>...</td>\n",
       "      <td>...</td>\n",
       "      <td>...</td>\n",
       "      <td>...</td>\n",
       "      <td>...</td>\n",
       "      <td>...</td>\n",
       "      <td>...</td>\n",
       "      <td>...</td>\n",
       "    </tr>\n",
       "    <tr>\n",
       "      <th>4365092</th>\n",
       "      <td>2021-1617348</td>\n",
       "      <td>2021-04-30</td>\n",
       "      <td>1</td>\n",
       "      <td>Vente</td>\n",
       "      <td>NaN</td>\n",
       "      <td>7.0</td>\n",
       "      <td>Z</td>\n",
       "      <td>PRV ALAN TURING</td>\n",
       "      <td>0149</td>\n",
       "      <td>75013.0</td>\n",
       "      <td>...</td>\n",
       "      <td>NaN</td>\n",
       "      <td>NaN</td>\n",
       "      <td>S</td>\n",
       "      <td>sols</td>\n",
       "      <td>NaN</td>\n",
       "      <td>NaN</td>\n",
       "      <td>346.0</td>\n",
       "      <td>2.370305</td>\n",
       "      <td>48.834412</td>\n",
       "      <td>True</td>\n",
       "    </tr>\n",
       "    <tr>\n",
       "      <th>4365093</th>\n",
       "      <td>2021-1617348</td>\n",
       "      <td>2021-04-30</td>\n",
       "      <td>1</td>\n",
       "      <td>Vente</td>\n",
       "      <td>NaN</td>\n",
       "      <td>7.0</td>\n",
       "      <td>Z</td>\n",
       "      <td>PRV ALAN TURING</td>\n",
       "      <td>0149</td>\n",
       "      <td>75013.0</td>\n",
       "      <td>...</td>\n",
       "      <td>NaN</td>\n",
       "      <td>NaN</td>\n",
       "      <td>S</td>\n",
       "      <td>sols</td>\n",
       "      <td>NaN</td>\n",
       "      <td>NaN</td>\n",
       "      <td>1.0</td>\n",
       "      <td>2.370328</td>\n",
       "      <td>48.834399</td>\n",
       "      <td>True</td>\n",
       "    </tr>\n",
       "    <tr>\n",
       "      <th>4365094</th>\n",
       "      <td>2021-1617348</td>\n",
       "      <td>2021-04-30</td>\n",
       "      <td>1</td>\n",
       "      <td>Vente</td>\n",
       "      <td>NaN</td>\n",
       "      <td>104.0</td>\n",
       "      <td>U</td>\n",
       "      <td>RUE DU CHEVALERET</td>\n",
       "      <td>1990</td>\n",
       "      <td>75013.0</td>\n",
       "      <td>...</td>\n",
       "      <td>NaN</td>\n",
       "      <td>NaN</td>\n",
       "      <td>S</td>\n",
       "      <td>sols</td>\n",
       "      <td>NaN</td>\n",
       "      <td>NaN</td>\n",
       "      <td>157.0</td>\n",
       "      <td>2.371558</td>\n",
       "      <td>48.832521</td>\n",
       "      <td>True</td>\n",
       "    </tr>\n",
       "    <tr>\n",
       "      <th>4369754</th>\n",
       "      <td>2021-1620632</td>\n",
       "      <td>2021-02-08</td>\n",
       "      <td>1</td>\n",
       "      <td>Vente</td>\n",
       "      <td>NaN</td>\n",
       "      <td>6.0</td>\n",
       "      <td>NaN</td>\n",
       "      <td>RUE PICOT</td>\n",
       "      <td>7399</td>\n",
       "      <td>75016.0</td>\n",
       "      <td>...</td>\n",
       "      <td>NaN</td>\n",
       "      <td>0.0</td>\n",
       "      <td>NaN</td>\n",
       "      <td>NaN</td>\n",
       "      <td>NaN</td>\n",
       "      <td>NaN</td>\n",
       "      <td>NaN</td>\n",
       "      <td>2.282343</td>\n",
       "      <td>48.870875</td>\n",
       "      <td>True</td>\n",
       "    </tr>\n",
       "    <tr>\n",
       "      <th>4372832</th>\n",
       "      <td>2021-1622797</td>\n",
       "      <td>2021-02-24</td>\n",
       "      <td>1</td>\n",
       "      <td>Vente en l'état futur d'achèvement</td>\n",
       "      <td>NaN</td>\n",
       "      <td>59.0</td>\n",
       "      <td>B</td>\n",
       "      <td>RUE DE LA CHAPELLE</td>\n",
       "      <td>1769</td>\n",
       "      <td>75018.0</td>\n",
       "      <td>...</td>\n",
       "      <td>NaN</td>\n",
       "      <td>NaN</td>\n",
       "      <td>NaN</td>\n",
       "      <td>NaN</td>\n",
       "      <td>NaN</td>\n",
       "      <td>NaN</td>\n",
       "      <td>NaN</td>\n",
       "      <td>2.357423</td>\n",
       "      <td>48.895856</td>\n",
       "      <td>True</td>\n",
       "    </tr>\n",
       "  </tbody>\n",
       "</table>\n",
       "<p>5804316 rows × 41 columns</p>\n",
       "</div>"
      ],
      "text/plain": [
       "          id_mutation date_mutation  numero_disposition  \\\n",
       "4060977  2021-1478097    2021-01-21                   1   \n",
       "4060978  2021-1478097    2021-01-21                   1   \n",
       "4060979  2021-1478097    2021-01-21                   1   \n",
       "4060980  2021-1478097    2021-01-21                   1   \n",
       "4060981  2021-1478097    2021-01-21                   1   \n",
       "...               ...           ...                 ...   \n",
       "4365092  2021-1617348    2021-04-30                   1   \n",
       "4365093  2021-1617348    2021-04-30                   1   \n",
       "4365094  2021-1617348    2021-04-30                   1   \n",
       "4369754  2021-1620632    2021-02-08                   1   \n",
       "4372832  2021-1622797    2021-02-24                   1   \n",
       "\n",
       "                            nature_mutation  valeur_fonciere  adresse_numero  \\\n",
       "4060977                               Vente      620000000.0            76.0   \n",
       "4060978                               Vente      620000000.0            76.0   \n",
       "4060979                               Vente      620000000.0            76.0   \n",
       "4060980                               Vente      620000000.0            76.0   \n",
       "4060981                               Vente      620000000.0            36.0   \n",
       "...                                     ...              ...             ...   \n",
       "4365092                               Vente              NaN             7.0   \n",
       "4365093                               Vente              NaN             7.0   \n",
       "4365094                               Vente              NaN           104.0   \n",
       "4369754                               Vente              NaN             6.0   \n",
       "4372832  Vente en l'état futur d'achèvement              NaN            59.0   \n",
       "\n",
       "        adresse_suffixe    adresse_nom_voie adresse_code_voie  code_postal  \\\n",
       "4060977             NaN        RUE GUYNEMER              4190      92130.0   \n",
       "4060978             NaN        RUE GUYNEMER              4190      92130.0   \n",
       "4060979             NaN        RUE GUYNEMER              4190      92130.0   \n",
       "4060980             NaN        RUE GUYNEMER              4190      92130.0   \n",
       "4060981             NaN        RUE GUYNEMER              4190      92130.0   \n",
       "...                 ...                 ...               ...          ...   \n",
       "4365092               Z     PRV ALAN TURING              0149      75013.0   \n",
       "4365093               Z     PRV ALAN TURING              0149      75013.0   \n",
       "4365094               U   RUE DU CHEVALERET              1990      75013.0   \n",
       "4369754             NaN           RUE PICOT              7399      75016.0   \n",
       "4372832               B  RUE DE LA CHAPELLE              1769      75018.0   \n",
       "\n",
       "         ... surface_reelle_bati nombre_pieces_principales  \\\n",
       "4060977  ...                 NaN                       NaN   \n",
       "4060978  ...                 NaN                       NaN   \n",
       "4060979  ...                 NaN                       NaN   \n",
       "4060980  ...                 NaN                       NaN   \n",
       "4060981  ...                 NaN                       NaN   \n",
       "...      ...                 ...                       ...   \n",
       "4365092  ...                 NaN                       NaN   \n",
       "4365093  ...                 NaN                       NaN   \n",
       "4365094  ...                 NaN                       NaN   \n",
       "4369754  ...                 NaN                       0.0   \n",
       "4372832  ...                 NaN                       NaN   \n",
       "\n",
       "        code_nature_culture  nature_culture code_nature_culture_speciale  \\\n",
       "4060977                 NaN             NaN                          NaN   \n",
       "4060978                 NaN             NaN                          NaN   \n",
       "4060979                 NaN             NaN                          NaN   \n",
       "4060980                 NaN             NaN                          NaN   \n",
       "4060981                 NaN             NaN                          NaN   \n",
       "...                     ...             ...                          ...   \n",
       "4365092                   S            sols                          NaN   \n",
       "4365093                   S            sols                          NaN   \n",
       "4365094                   S            sols                          NaN   \n",
       "4369754                 NaN             NaN                          NaN   \n",
       "4372832                 NaN             NaN                          NaN   \n",
       "\n",
       "        nature_culture_speciale surface_terrain longitude   latitude  \\\n",
       "4060977                     NaN             NaN  2.274025  48.828327   \n",
       "4060978                     NaN             NaN  2.274025  48.828327   \n",
       "4060979                     NaN             NaN  2.274025  48.828327   \n",
       "4060980                     NaN             NaN  2.274025  48.828327   \n",
       "4060981                     NaN             NaN  2.274025  48.828327   \n",
       "...                         ...             ...       ...        ...   \n",
       "4365092                     NaN           346.0  2.370305  48.834412   \n",
       "4365093                     NaN             1.0  2.370328  48.834399   \n",
       "4365094                     NaN           157.0  2.371558  48.832521   \n",
       "4369754                     NaN             NaN  2.282343  48.870875   \n",
       "4372832                     NaN             NaN  2.357423  48.895856   \n",
       "\n",
       "         Validation  \n",
       "4060977       False  \n",
       "4060978       False  \n",
       "4060979       False  \n",
       "4060980       False  \n",
       "4060981       False  \n",
       "...             ...  \n",
       "4365092        True  \n",
       "4365093        True  \n",
       "4365094        True  \n",
       "4369754        True  \n",
       "4372832        True  \n",
       "\n",
       "[5804316 rows x 41 columns]"
      ]
     },
     "execution_count": 36,
     "metadata": {},
     "output_type": "execute_result"
    }
   ],
   "source": [
    "df.sort_values(['valeur_fonciere', 'surface_reelle_bati'], ascending = [False, True])"
   ]
  },
  {
   "cell_type": "markdown",
   "id": "e2bb67d6",
   "metadata": {},
   "source": [
    "## Limitation aux 10 premiers résultats"
   ]
  },
  {
   "cell_type": "code",
   "execution_count": 37,
   "id": "af592291",
   "metadata": {},
   "outputs": [
    {
     "data": {
      "text/html": [
       "<div>\n",
       "<style scoped>\n",
       "    .dataframe tbody tr th:only-of-type {\n",
       "        vertical-align: middle;\n",
       "    }\n",
       "\n",
       "    .dataframe tbody tr th {\n",
       "        vertical-align: top;\n",
       "    }\n",
       "\n",
       "    .dataframe thead th {\n",
       "        text-align: right;\n",
       "    }\n",
       "</style>\n",
       "<table border=\"1\" class=\"dataframe\">\n",
       "  <thead>\n",
       "    <tr style=\"text-align: right;\">\n",
       "      <th></th>\n",
       "      <th>id_mutation</th>\n",
       "      <th>date_mutation</th>\n",
       "      <th>numero_disposition</th>\n",
       "      <th>nature_mutation</th>\n",
       "      <th>valeur_fonciere</th>\n",
       "      <th>adresse_numero</th>\n",
       "      <th>adresse_suffixe</th>\n",
       "      <th>adresse_nom_voie</th>\n",
       "      <th>adresse_code_voie</th>\n",
       "      <th>code_postal</th>\n",
       "      <th>...</th>\n",
       "      <th>surface_reelle_bati</th>\n",
       "      <th>nombre_pieces_principales</th>\n",
       "      <th>code_nature_culture</th>\n",
       "      <th>nature_culture</th>\n",
       "      <th>code_nature_culture_speciale</th>\n",
       "      <th>nature_culture_speciale</th>\n",
       "      <th>surface_terrain</th>\n",
       "      <th>longitude</th>\n",
       "      <th>latitude</th>\n",
       "      <th>Validation</th>\n",
       "    </tr>\n",
       "  </thead>\n",
       "  <tbody>\n",
       "    <tr>\n",
       "      <th>4060977</th>\n",
       "      <td>2021-1478097</td>\n",
       "      <td>2021-01-21</td>\n",
       "      <td>1</td>\n",
       "      <td>Vente</td>\n",
       "      <td>620000000.0</td>\n",
       "      <td>76.0</td>\n",
       "      <td>NaN</td>\n",
       "      <td>RUE GUYNEMER</td>\n",
       "      <td>4190</td>\n",
       "      <td>92130.0</td>\n",
       "      <td>...</td>\n",
       "      <td>NaN</td>\n",
       "      <td>NaN</td>\n",
       "      <td>NaN</td>\n",
       "      <td>NaN</td>\n",
       "      <td>NaN</td>\n",
       "      <td>NaN</td>\n",
       "      <td>NaN</td>\n",
       "      <td>2.274025</td>\n",
       "      <td>48.828327</td>\n",
       "      <td>False</td>\n",
       "    </tr>\n",
       "    <tr>\n",
       "      <th>4060978</th>\n",
       "      <td>2021-1478097</td>\n",
       "      <td>2021-01-21</td>\n",
       "      <td>1</td>\n",
       "      <td>Vente</td>\n",
       "      <td>620000000.0</td>\n",
       "      <td>76.0</td>\n",
       "      <td>NaN</td>\n",
       "      <td>RUE GUYNEMER</td>\n",
       "      <td>4190</td>\n",
       "      <td>92130.0</td>\n",
       "      <td>...</td>\n",
       "      <td>NaN</td>\n",
       "      <td>NaN</td>\n",
       "      <td>NaN</td>\n",
       "      <td>NaN</td>\n",
       "      <td>NaN</td>\n",
       "      <td>NaN</td>\n",
       "      <td>NaN</td>\n",
       "      <td>2.274025</td>\n",
       "      <td>48.828327</td>\n",
       "      <td>False</td>\n",
       "    </tr>\n",
       "    <tr>\n",
       "      <th>4060979</th>\n",
       "      <td>2021-1478097</td>\n",
       "      <td>2021-01-21</td>\n",
       "      <td>1</td>\n",
       "      <td>Vente</td>\n",
       "      <td>620000000.0</td>\n",
       "      <td>76.0</td>\n",
       "      <td>NaN</td>\n",
       "      <td>RUE GUYNEMER</td>\n",
       "      <td>4190</td>\n",
       "      <td>92130.0</td>\n",
       "      <td>...</td>\n",
       "      <td>NaN</td>\n",
       "      <td>NaN</td>\n",
       "      <td>NaN</td>\n",
       "      <td>NaN</td>\n",
       "      <td>NaN</td>\n",
       "      <td>NaN</td>\n",
       "      <td>NaN</td>\n",
       "      <td>2.274025</td>\n",
       "      <td>48.828327</td>\n",
       "      <td>False</td>\n",
       "    </tr>\n",
       "    <tr>\n",
       "      <th>4060980</th>\n",
       "      <td>2021-1478097</td>\n",
       "      <td>2021-01-21</td>\n",
       "      <td>1</td>\n",
       "      <td>Vente</td>\n",
       "      <td>620000000.0</td>\n",
       "      <td>76.0</td>\n",
       "      <td>NaN</td>\n",
       "      <td>RUE GUYNEMER</td>\n",
       "      <td>4190</td>\n",
       "      <td>92130.0</td>\n",
       "      <td>...</td>\n",
       "      <td>NaN</td>\n",
       "      <td>NaN</td>\n",
       "      <td>NaN</td>\n",
       "      <td>NaN</td>\n",
       "      <td>NaN</td>\n",
       "      <td>NaN</td>\n",
       "      <td>NaN</td>\n",
       "      <td>2.274025</td>\n",
       "      <td>48.828327</td>\n",
       "      <td>False</td>\n",
       "    </tr>\n",
       "    <tr>\n",
       "      <th>4060981</th>\n",
       "      <td>2021-1478097</td>\n",
       "      <td>2021-01-21</td>\n",
       "      <td>1</td>\n",
       "      <td>Vente</td>\n",
       "      <td>620000000.0</td>\n",
       "      <td>36.0</td>\n",
       "      <td>NaN</td>\n",
       "      <td>RUE GUYNEMER</td>\n",
       "      <td>4190</td>\n",
       "      <td>92130.0</td>\n",
       "      <td>...</td>\n",
       "      <td>NaN</td>\n",
       "      <td>NaN</td>\n",
       "      <td>NaN</td>\n",
       "      <td>NaN</td>\n",
       "      <td>NaN</td>\n",
       "      <td>NaN</td>\n",
       "      <td>NaN</td>\n",
       "      <td>2.274025</td>\n",
       "      <td>48.828327</td>\n",
       "      <td>False</td>\n",
       "    </tr>\n",
       "    <tr>\n",
       "      <th>4060982</th>\n",
       "      <td>2021-1478097</td>\n",
       "      <td>2021-01-21</td>\n",
       "      <td>1</td>\n",
       "      <td>Vente</td>\n",
       "      <td>620000000.0</td>\n",
       "      <td>36.0</td>\n",
       "      <td>NaN</td>\n",
       "      <td>RUE GUYNEMER</td>\n",
       "      <td>4190</td>\n",
       "      <td>92130.0</td>\n",
       "      <td>...</td>\n",
       "      <td>NaN</td>\n",
       "      <td>NaN</td>\n",
       "      <td>NaN</td>\n",
       "      <td>NaN</td>\n",
       "      <td>NaN</td>\n",
       "      <td>NaN</td>\n",
       "      <td>NaN</td>\n",
       "      <td>2.274025</td>\n",
       "      <td>48.828327</td>\n",
       "      <td>False</td>\n",
       "    </tr>\n",
       "    <tr>\n",
       "      <th>4060983</th>\n",
       "      <td>2021-1478097</td>\n",
       "      <td>2021-01-21</td>\n",
       "      <td>1</td>\n",
       "      <td>Vente</td>\n",
       "      <td>620000000.0</td>\n",
       "      <td>36.0</td>\n",
       "      <td>NaN</td>\n",
       "      <td>RUE GUYNEMER</td>\n",
       "      <td>4190</td>\n",
       "      <td>92130.0</td>\n",
       "      <td>...</td>\n",
       "      <td>NaN</td>\n",
       "      <td>NaN</td>\n",
       "      <td>NaN</td>\n",
       "      <td>NaN</td>\n",
       "      <td>NaN</td>\n",
       "      <td>NaN</td>\n",
       "      <td>NaN</td>\n",
       "      <td>2.274025</td>\n",
       "      <td>48.828327</td>\n",
       "      <td>False</td>\n",
       "    </tr>\n",
       "    <tr>\n",
       "      <th>4060984</th>\n",
       "      <td>2021-1478097</td>\n",
       "      <td>2021-01-21</td>\n",
       "      <td>1</td>\n",
       "      <td>Vente</td>\n",
       "      <td>620000000.0</td>\n",
       "      <td>36.0</td>\n",
       "      <td>NaN</td>\n",
       "      <td>RUE GUYNEMER</td>\n",
       "      <td>4190</td>\n",
       "      <td>92130.0</td>\n",
       "      <td>...</td>\n",
       "      <td>NaN</td>\n",
       "      <td>NaN</td>\n",
       "      <td>NaN</td>\n",
       "      <td>NaN</td>\n",
       "      <td>NaN</td>\n",
       "      <td>NaN</td>\n",
       "      <td>NaN</td>\n",
       "      <td>2.274025</td>\n",
       "      <td>48.828327</td>\n",
       "      <td>False</td>\n",
       "    </tr>\n",
       "    <tr>\n",
       "      <th>4060985</th>\n",
       "      <td>2021-1478097</td>\n",
       "      <td>2021-01-21</td>\n",
       "      <td>1</td>\n",
       "      <td>Vente</td>\n",
       "      <td>620000000.0</td>\n",
       "      <td>36.0</td>\n",
       "      <td>NaN</td>\n",
       "      <td>RUE GUYNEMER</td>\n",
       "      <td>4190</td>\n",
       "      <td>92130.0</td>\n",
       "      <td>...</td>\n",
       "      <td>NaN</td>\n",
       "      <td>NaN</td>\n",
       "      <td>NaN</td>\n",
       "      <td>NaN</td>\n",
       "      <td>NaN</td>\n",
       "      <td>NaN</td>\n",
       "      <td>NaN</td>\n",
       "      <td>2.274025</td>\n",
       "      <td>48.828327</td>\n",
       "      <td>False</td>\n",
       "    </tr>\n",
       "    <tr>\n",
       "      <th>4366697</th>\n",
       "      <td>2021-1618560</td>\n",
       "      <td>2021-01-29</td>\n",
       "      <td>1</td>\n",
       "      <td>Vente</td>\n",
       "      <td>440840000.0</td>\n",
       "      <td>26.0</td>\n",
       "      <td>NaN</td>\n",
       "      <td>RUE DU PROF FLORIAN DELBARRE</td>\n",
       "      <td>7842</td>\n",
       "      <td>75015.0</td>\n",
       "      <td>...</td>\n",
       "      <td>NaN</td>\n",
       "      <td>NaN</td>\n",
       "      <td>AG</td>\n",
       "      <td>terrains d'agrément</td>\n",
       "      <td>NaN</td>\n",
       "      <td>NaN</td>\n",
       "      <td>378.0</td>\n",
       "      <td>2.272362</td>\n",
       "      <td>48.838561</td>\n",
       "      <td>True</td>\n",
       "    </tr>\n",
       "  </tbody>\n",
       "</table>\n",
       "<p>10 rows × 41 columns</p>\n",
       "</div>"
      ],
      "text/plain": [
       "          id_mutation date_mutation  numero_disposition nature_mutation  \\\n",
       "4060977  2021-1478097    2021-01-21                   1           Vente   \n",
       "4060978  2021-1478097    2021-01-21                   1           Vente   \n",
       "4060979  2021-1478097    2021-01-21                   1           Vente   \n",
       "4060980  2021-1478097    2021-01-21                   1           Vente   \n",
       "4060981  2021-1478097    2021-01-21                   1           Vente   \n",
       "4060982  2021-1478097    2021-01-21                   1           Vente   \n",
       "4060983  2021-1478097    2021-01-21                   1           Vente   \n",
       "4060984  2021-1478097    2021-01-21                   1           Vente   \n",
       "4060985  2021-1478097    2021-01-21                   1           Vente   \n",
       "4366697  2021-1618560    2021-01-29                   1           Vente   \n",
       "\n",
       "         valeur_fonciere  adresse_numero adresse_suffixe  \\\n",
       "4060977      620000000.0            76.0             NaN   \n",
       "4060978      620000000.0            76.0             NaN   \n",
       "4060979      620000000.0            76.0             NaN   \n",
       "4060980      620000000.0            76.0             NaN   \n",
       "4060981      620000000.0            36.0             NaN   \n",
       "4060982      620000000.0            36.0             NaN   \n",
       "4060983      620000000.0            36.0             NaN   \n",
       "4060984      620000000.0            36.0             NaN   \n",
       "4060985      620000000.0            36.0             NaN   \n",
       "4366697      440840000.0            26.0             NaN   \n",
       "\n",
       "                     adresse_nom_voie adresse_code_voie  code_postal  ...  \\\n",
       "4060977                  RUE GUYNEMER              4190      92130.0  ...   \n",
       "4060978                  RUE GUYNEMER              4190      92130.0  ...   \n",
       "4060979                  RUE GUYNEMER              4190      92130.0  ...   \n",
       "4060980                  RUE GUYNEMER              4190      92130.0  ...   \n",
       "4060981                  RUE GUYNEMER              4190      92130.0  ...   \n",
       "4060982                  RUE GUYNEMER              4190      92130.0  ...   \n",
       "4060983                  RUE GUYNEMER              4190      92130.0  ...   \n",
       "4060984                  RUE GUYNEMER              4190      92130.0  ...   \n",
       "4060985                  RUE GUYNEMER              4190      92130.0  ...   \n",
       "4366697  RUE DU PROF FLORIAN DELBARRE              7842      75015.0  ...   \n",
       "\n",
       "        surface_reelle_bati nombre_pieces_principales code_nature_culture  \\\n",
       "4060977                 NaN                       NaN                 NaN   \n",
       "4060978                 NaN                       NaN                 NaN   \n",
       "4060979                 NaN                       NaN                 NaN   \n",
       "4060980                 NaN                       NaN                 NaN   \n",
       "4060981                 NaN                       NaN                 NaN   \n",
       "4060982                 NaN                       NaN                 NaN   \n",
       "4060983                 NaN                       NaN                 NaN   \n",
       "4060984                 NaN                       NaN                 NaN   \n",
       "4060985                 NaN                       NaN                 NaN   \n",
       "4366697                 NaN                       NaN                  AG   \n",
       "\n",
       "              nature_culture code_nature_culture_speciale  \\\n",
       "4060977                  NaN                          NaN   \n",
       "4060978                  NaN                          NaN   \n",
       "4060979                  NaN                          NaN   \n",
       "4060980                  NaN                          NaN   \n",
       "4060981                  NaN                          NaN   \n",
       "4060982                  NaN                          NaN   \n",
       "4060983                  NaN                          NaN   \n",
       "4060984                  NaN                          NaN   \n",
       "4060985                  NaN                          NaN   \n",
       "4366697  terrains d'agrément                          NaN   \n",
       "\n",
       "        nature_culture_speciale surface_terrain longitude   latitude  \\\n",
       "4060977                     NaN             NaN  2.274025  48.828327   \n",
       "4060978                     NaN             NaN  2.274025  48.828327   \n",
       "4060979                     NaN             NaN  2.274025  48.828327   \n",
       "4060980                     NaN             NaN  2.274025  48.828327   \n",
       "4060981                     NaN             NaN  2.274025  48.828327   \n",
       "4060982                     NaN             NaN  2.274025  48.828327   \n",
       "4060983                     NaN             NaN  2.274025  48.828327   \n",
       "4060984                     NaN             NaN  2.274025  48.828327   \n",
       "4060985                     NaN             NaN  2.274025  48.828327   \n",
       "4366697                     NaN           378.0  2.272362  48.838561   \n",
       "\n",
       "         Validation  \n",
       "4060977       False  \n",
       "4060978       False  \n",
       "4060979       False  \n",
       "4060980       False  \n",
       "4060981       False  \n",
       "4060982       False  \n",
       "4060983       False  \n",
       "4060984       False  \n",
       "4060985       False  \n",
       "4366697        True  \n",
       "\n",
       "[10 rows x 41 columns]"
      ]
     },
     "execution_count": 37,
     "metadata": {},
     "output_type": "execute_result"
    }
   ],
   "source": [
    "df.sort_values(['valeur_fonciere', 'surface_reelle_bati'], ascending = [False, True]).head(10)"
   ]
  },
  {
   "cell_type": "markdown",
   "id": "b284896a",
   "metadata": {},
   "source": [
    "## Union et jointure"
   ]
  },
  {
   "cell_type": "code",
   "execution_count": 38,
   "id": "6944d697",
   "metadata": {},
   "outputs": [
    {
     "data": {
      "text/html": [
       "<div>\n",
       "<style scoped>\n",
       "    .dataframe tbody tr th:only-of-type {\n",
       "        vertical-align: middle;\n",
       "    }\n",
       "\n",
       "    .dataframe tbody tr th {\n",
       "        vertical-align: top;\n",
       "    }\n",
       "\n",
       "    .dataframe thead th {\n",
       "        text-align: right;\n",
       "    }\n",
       "</style>\n",
       "<table border=\"1\" class=\"dataframe\">\n",
       "  <thead>\n",
       "    <tr style=\"text-align: right;\">\n",
       "      <th></th>\n",
       "      <th>A</th>\n",
       "      <th>B</th>\n",
       "    </tr>\n",
       "  </thead>\n",
       "  <tbody>\n",
       "    <tr>\n",
       "      <th>0</th>\n",
       "      <td>3</td>\n",
       "      <td>1</td>\n",
       "    </tr>\n",
       "    <tr>\n",
       "      <th>1</th>\n",
       "      <td>5</td>\n",
       "      <td>2</td>\n",
       "    </tr>\n",
       "    <tr>\n",
       "      <th>2</th>\n",
       "      <td>6</td>\n",
       "      <td>4</td>\n",
       "    </tr>\n",
       "    <tr>\n",
       "      <th>3</th>\n",
       "      <td>7</td>\n",
       "      <td>9</td>\n",
       "    </tr>\n",
       "  </tbody>\n",
       "</table>\n",
       "</div>"
      ],
      "text/plain": [
       "   A  B\n",
       "0  3  1\n",
       "1  5  2\n",
       "2  6  4\n",
       "3  7  9"
      ]
     },
     "execution_count": 38,
     "metadata": {},
     "output_type": "execute_result"
    }
   ],
   "source": [
    "df1 = pd.DataFrame({'A': [3, 5], 'B': [1, 2]}, index = [0, 1])\n",
    "df2 = pd.DataFrame({'A': [6, 7], 'B': [4, 9]}, index = [2, 3])\n",
    "pd.concat([df1, df2])\n",
    "    "
   ]
  },
  {
   "cell_type": "code",
   "execution_count": 39,
   "id": "81c4ba79",
   "metadata": {},
   "outputs": [
    {
     "data": {
      "text/html": [
       "<div>\n",
       "<style scoped>\n",
       "    .dataframe tbody tr th:only-of-type {\n",
       "        vertical-align: middle;\n",
       "    }\n",
       "\n",
       "    .dataframe tbody tr th {\n",
       "        vertical-align: top;\n",
       "    }\n",
       "\n",
       "    .dataframe thead th {\n",
       "        text-align: right;\n",
       "    }\n",
       "</style>\n",
       "<table border=\"1\" class=\"dataframe\">\n",
       "  <thead>\n",
       "    <tr style=\"text-align: right;\">\n",
       "      <th></th>\n",
       "      <th>A</th>\n",
       "      <th>B</th>\n",
       "      <th>C</th>\n",
       "    </tr>\n",
       "  </thead>\n",
       "  <tbody>\n",
       "    <tr>\n",
       "      <th>0</th>\n",
       "      <td>3</td>\n",
       "      <td>1</td>\n",
       "      <td>2</td>\n",
       "    </tr>\n",
       "    <tr>\n",
       "      <th>1</th>\n",
       "      <td>5</td>\n",
       "      <td>2</td>\n",
       "      <td>9</td>\n",
       "    </tr>\n",
       "  </tbody>\n",
       "</table>\n",
       "</div>"
      ],
      "text/plain": [
       "   A  B  C\n",
       "0  3  1  2\n",
       "1  5  2  9"
      ]
     },
     "execution_count": 39,
     "metadata": {},
     "output_type": "execute_result"
    }
   ],
   "source": [
    "df1 = pd.DataFrame({'A': [3, 5], 'B': [1, 2]}) \n",
    "df2 = pd.DataFrame({'A': [5, 3, 7], 'C': [9, 2, 0]}) \n",
    "pd.merge(df1, df2)"
   ]
  }
 ],
 "metadata": {
  "kernelspec": {
   "display_name": "Python 3 (ipykernel)",
   "language": "python",
   "name": "python3"
  },
  "language_info": {
   "codemirror_mode": {
    "name": "ipython",
    "version": 3
   },
   "file_extension": ".py",
   "mimetype": "text/x-python",
   "name": "python",
   "nbconvert_exporter": "python",
   "pygments_lexer": "ipython3",
   "version": "3.9.13"
  }
 },
 "nbformat": 4,
 "nbformat_minor": 5
}
